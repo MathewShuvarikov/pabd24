{
 "cells": [
  {
   "cell_type": "code",
   "execution_count": 34,
   "id": "710eb4dd-fec2-4026-ac0e-d35aa008659d",
   "metadata": {},
   "outputs": [],
   "source": [
    "import argparse\n",
    "import logging\n",
    "import pandas as pd\n",
    "from sklearn.ensemble import RandomForestRegressor\n",
    "from sklearn.metrics import r2_score, mean_absolute_error as mae, mean_absolute_percentage_error as mape, make_scorer\n",
    "from joblib import dump\n",
    "import numpy as np\n",
    "\n",
    "from sklearn.pipeline import Pipeline\n",
    "from sklearn.preprocessing import MinMaxScaler, StandardScaler, RobustScaler\n",
    "from sklearn.decomposition import PCA\n",
    "from sklearn.linear_model import LinearRegression, Ridge, Lasso, HuberRegressor\n",
    "from sklearn.model_selection import GridSearchCV\n",
    "from sklearn.metrics import mean_absolute_error as mae, mean_absolute_percentage_error as mape\n",
    "\n",
    "import warnings\n",
    "warnings.filterwarnings('ignore')"
   ]
  },
  {
   "cell_type": "code",
   "execution_count": 35,
   "id": "8af193db-e565-47ea-98f0-e652b86d7df8",
   "metadata": {
    "tags": []
   },
   "outputs": [
    {
     "data": {
      "text/html": [
       "<div>\n",
       "<style scoped>\n",
       "    .dataframe tbody tr th:only-of-type {\n",
       "        vertical-align: middle;\n",
       "    }\n",
       "\n",
       "    .dataframe tbody tr th {\n",
       "        vertical-align: top;\n",
       "    }\n",
       "\n",
       "    .dataframe thead th {\n",
       "        text-align: right;\n",
       "    }\n",
       "</style>\n",
       "<table border=\"1\" class=\"dataframe\">\n",
       "  <thead>\n",
       "    <tr style=\"text-align: right;\">\n",
       "      <th></th>\n",
       "      <th>floor</th>\n",
       "      <th>floors_count</th>\n",
       "      <th>rooms_count</th>\n",
       "      <th>total_meters</th>\n",
       "      <th>price</th>\n",
       "      <th>top_bottom_floor</th>\n",
       "      <th>county_short_ВАО</th>\n",
       "      <th>county_short_ЗАО</th>\n",
       "      <th>county_short_ЗелАО</th>\n",
       "      <th>county_short_САО</th>\n",
       "      <th>county_short_СВАО</th>\n",
       "      <th>county_short_СЗАО</th>\n",
       "      <th>county_short_ТАО</th>\n",
       "      <th>county_short_ЦАО</th>\n",
       "      <th>county_short_ЮАО</th>\n",
       "      <th>county_short_ЮВАО</th>\n",
       "      <th>county_short_ЮЗАО</th>\n",
       "      <th>object_type_secondary</th>\n",
       "    </tr>\n",
       "  </thead>\n",
       "  <tbody>\n",
       "    <tr>\n",
       "      <th>0</th>\n",
       "      <td>19</td>\n",
       "      <td>24</td>\n",
       "      <td>2</td>\n",
       "      <td>70.0</td>\n",
       "      <td>42000000.0</td>\n",
       "      <td>0</td>\n",
       "      <td>0</td>\n",
       "      <td>0</td>\n",
       "      <td>0</td>\n",
       "      <td>1</td>\n",
       "      <td>0</td>\n",
       "      <td>0</td>\n",
       "      <td>0</td>\n",
       "      <td>0</td>\n",
       "      <td>0</td>\n",
       "      <td>0</td>\n",
       "      <td>0</td>\n",
       "      <td>1</td>\n",
       "    </tr>\n",
       "    <tr>\n",
       "      <th>1</th>\n",
       "      <td>3</td>\n",
       "      <td>14</td>\n",
       "      <td>3</td>\n",
       "      <td>68.7</td>\n",
       "      <td>38500000.0</td>\n",
       "      <td>0</td>\n",
       "      <td>0</td>\n",
       "      <td>1</td>\n",
       "      <td>0</td>\n",
       "      <td>0</td>\n",
       "      <td>0</td>\n",
       "      <td>0</td>\n",
       "      <td>0</td>\n",
       "      <td>0</td>\n",
       "      <td>0</td>\n",
       "      <td>0</td>\n",
       "      <td>0</td>\n",
       "      <td>1</td>\n",
       "    </tr>\n",
       "    <tr>\n",
       "      <th>2</th>\n",
       "      <td>13</td>\n",
       "      <td>44</td>\n",
       "      <td>1</td>\n",
       "      <td>34.3</td>\n",
       "      <td>16600000.0</td>\n",
       "      <td>0</td>\n",
       "      <td>0</td>\n",
       "      <td>0</td>\n",
       "      <td>0</td>\n",
       "      <td>0</td>\n",
       "      <td>0</td>\n",
       "      <td>1</td>\n",
       "      <td>0</td>\n",
       "      <td>0</td>\n",
       "      <td>0</td>\n",
       "      <td>0</td>\n",
       "      <td>0</td>\n",
       "      <td>0</td>\n",
       "    </tr>\n",
       "    <tr>\n",
       "      <th>3</th>\n",
       "      <td>6</td>\n",
       "      <td>17</td>\n",
       "      <td>3</td>\n",
       "      <td>72.0</td>\n",
       "      <td>18900000.0</td>\n",
       "      <td>0</td>\n",
       "      <td>0</td>\n",
       "      <td>0</td>\n",
       "      <td>0</td>\n",
       "      <td>0</td>\n",
       "      <td>1</td>\n",
       "      <td>0</td>\n",
       "      <td>0</td>\n",
       "      <td>0</td>\n",
       "      <td>0</td>\n",
       "      <td>0</td>\n",
       "      <td>0</td>\n",
       "      <td>1</td>\n",
       "    </tr>\n",
       "    <tr>\n",
       "      <th>4</th>\n",
       "      <td>3</td>\n",
       "      <td>5</td>\n",
       "      <td>1</td>\n",
       "      <td>20.3</td>\n",
       "      <td>5999999.0</td>\n",
       "      <td>0</td>\n",
       "      <td>0</td>\n",
       "      <td>0</td>\n",
       "      <td>0</td>\n",
       "      <td>0</td>\n",
       "      <td>1</td>\n",
       "      <td>0</td>\n",
       "      <td>0</td>\n",
       "      <td>0</td>\n",
       "      <td>0</td>\n",
       "      <td>0</td>\n",
       "      <td>0</td>\n",
       "      <td>1</td>\n",
       "    </tr>\n",
       "  </tbody>\n",
       "</table>\n",
       "</div>"
      ],
      "text/plain": [
       "   floor  floors_count  rooms_count  total_meters       price  \\\n",
       "0     19            24            2          70.0  42000000.0   \n",
       "1      3            14            3          68.7  38500000.0   \n",
       "2     13            44            1          34.3  16600000.0   \n",
       "3      6            17            3          72.0  18900000.0   \n",
       "4      3             5            1          20.3   5999999.0   \n",
       "\n",
       "   top_bottom_floor  county_short_ВАО  county_short_ЗАО  county_short_ЗелАО  \\\n",
       "0                 0                 0                 0                   0   \n",
       "1                 0                 0                 1                   0   \n",
       "2                 0                 0                 0                   0   \n",
       "3                 0                 0                 0                   0   \n",
       "4                 0                 0                 0                   0   \n",
       "\n",
       "   county_short_САО  county_short_СВАО  county_short_СЗАО  county_short_ТАО  \\\n",
       "0                 1                  0                  0                 0   \n",
       "1                 0                  0                  0                 0   \n",
       "2                 0                  0                  1                 0   \n",
       "3                 0                  1                  0                 0   \n",
       "4                 0                  1                  0                 0   \n",
       "\n",
       "   county_short_ЦАО  county_short_ЮАО  county_short_ЮВАО  county_short_ЮЗАО  \\\n",
       "0                 0                 0                  0                  0   \n",
       "1                 0                 0                  0                  0   \n",
       "2                 0                 0                  0                  0   \n",
       "3                 0                 0                  0                  0   \n",
       "4                 0                 0                  0                  0   \n",
       "\n",
       "   object_type_secondary  \n",
       "0                      1  \n",
       "1                      1  \n",
       "2                      0  \n",
       "3                      1  \n",
       "4                      1  "
      ]
     },
     "execution_count": 35,
     "metadata": {},
     "output_type": "execute_result"
    }
   ],
   "source": [
    "train = pd.read_csv('../data/proc/train.csv')\n",
    "test = pd.read_csv('../data/proc/val.csv')\n",
    "train.head()"
   ]
  },
  {
   "cell_type": "code",
   "execution_count": 36,
   "id": "b03d08b5-493a-4a92-ab4c-84f8f7ad5490",
   "metadata": {
    "tags": []
   },
   "outputs": [],
   "source": [
    "X = train.drop(columns='price')\n",
    "y = np.log(train.price)\n",
    "\n",
    "X_test = test.drop(columns='price')\n",
    "y_test = test.price"
   ]
  },
  {
   "cell_type": "markdown",
   "id": "76f8b281-8a3a-423f-80be-216ab706c0fa",
   "metadata": {},
   "source": [
    "# Классическая линейная регрессия с ln(y)"
   ]
  },
  {
   "cell_type": "code",
   "execution_count": 37,
   "id": "b61e5235-31a0-4be1-b3fa-9f1c5a0ceb7f",
   "metadata": {
    "tags": []
   },
   "outputs": [
    {
     "name": "stdout",
     "output_type": "stream",
     "text": [
      "R2 on train: 0.809 \n",
      "\n",
      "MAE on train: 41500174 \n",
      "MAE on test: 16443532 \n",
      "\n",
      "MAPE on train: 0.327 \n",
      "MAPE on test: 0.306 \n"
     ]
    }
   ],
   "source": [
    "lm = LinearRegression().fit(X, y)\n",
    "y_fitted = np.exp(lm.predict(X))\n",
    "y_predicted = np.exp(lm.predict(X_test))\n",
    "\n",
    "print('R2 on train: %.3f'%lm.score(X, y), '\\n')\n",
    "\n",
    "print('MAE on train: %.0f '% mae(y, y_fitted))\n",
    "print('MAE on test: %.0f'% mae(y_test, y_predicted), '\\n')\n",
    "\n",
    "print('MAPE on train: %.3f '% mape(np.exp(y), y_fitted))\n",
    "print('MAPE on test: %.3f '% mape(y_test, y_predicted))"
   ]
  },
  {
   "cell_type": "markdown",
   "id": "e4fbc16b-3ba4-4b96-a660-24317930d78d",
   "metadata": {},
   "source": [
    "# Pipelines with Scaler, dimentionaly reduction and regularization"
   ]
  },
  {
   "cell_type": "code",
   "execution_count": 8,
   "id": "319b16bc-9c1a-446f-9553-5ae371f2dfef",
   "metadata": {
    "tags": []
   },
   "outputs": [
    {
     "name": "stdout",
     "output_type": "stream",
     "text": [
      "Fitting 5 folds for each of 270 candidates, totalling 1350 fits\n",
      "CPU times: total: 5.42 s\n",
      "Wall time: 20.3 s\n",
      "Best params : {'pca': PCA(n_components=5), 'pca__n_components': 5, 'regressor': Ridge(alpha=0.1), 'regressor__alpha': 0.1, 'scaler': StandardScaler()}\n",
      "Best R2 0.758\n"
     ]
    }
   ],
   "source": [
    "# Pipeline with dimentionality reduction, target metric - R-square\n",
    "\n",
    "pipeline = Pipeline([\n",
    "('scaler', StandardScaler()),\n",
    "('pca', PCA()),\n",
    "('regressor', Lasso())\n",
    "])\n",
    "\n",
    "param_grid = {'scaler': [StandardScaler(), MinMaxScaler(), RobustScaler()],\n",
    "    'pca': [PCA()],         \n",
    "    'pca__n_components': range(1, 6),\n",
    "    'regressor': [Lasso(), Ridge(), HuberRegressor()],\n",
    "    'regressor__alpha': [0, 0.01, 0.1, 1.0, 10, 100]\n",
    "}\n",
    "\n",
    "grid_search = GridSearchCV(pipeline, param_grid, cv=5, scoring='r2', verbose=1, n_jobs=10)\n",
    "%time grid_search.fit(X, y)\n",
    "\n",
    "print(\"Best params :\", grid_search.best_params_)\n",
    "print(\"Best R2 %.3f\"% grid_search.best_score_)"
   ]
  },
  {
   "cell_type": "code",
   "execution_count": 11,
   "id": "986af1d7-66a0-4d99-8ca1-71eb6b95dbf8",
   "metadata": {
    "tags": []
   },
   "outputs": [
    {
     "name": "stdout",
     "output_type": "stream",
     "text": [
      "Fitting 5 folds for each of 270 candidates, totalling 1350 fits\n",
      "CPU times: total: 6.3 s\n",
      "Wall time: 20.6 s\n",
      "Best params : {'pca': PCA(n_components=5), 'pca__n_components': 5, 'regressor': HuberRegressor(alpha=0.01), 'regressor__alpha': 0.01, 'scaler': RobustScaler()}\n",
      "Best MAE 0.334\n"
     ]
    }
   ],
   "source": [
    "# Pipeline with dimentionality reduction, target metric - MAE\n",
    "\n",
    "pipeline = Pipeline([\n",
    "('scaler', StandardScaler()),\n",
    "('pca', PCA()),\n",
    "('regressor', Lasso())\n",
    "])\n",
    "\n",
    "param_grid = {'scaler': [StandardScaler(), MinMaxScaler(), RobustScaler()],\n",
    "    'pca': [PCA()],         \n",
    "    'pca__n_components': range(1, 6),\n",
    "    'regressor': [Lasso(), Ridge(), HuberRegressor()],\n",
    "    'regressor__alpha': [0, 0.01, 0.1, 1.0, 10, 100]\n",
    "}\n",
    "\n",
    "grid_search = GridSearchCV(pipeline, param_grid, cv=5, scoring='neg_mean_absolute_error', verbose=1, n_jobs=10)\n",
    "%time grid_search.fit(X, y)\n",
    "\n",
    "print(\"Best params :\", grid_search.best_params_)\n",
    "print(\"Best MAE %.3f\"% -grid_search.best_score_)"
   ]
  },
  {
   "cell_type": "code",
   "execution_count": 10,
   "id": "5df3474b-f067-4862-bac9-a63d4513eec6",
   "metadata": {
    "tags": []
   },
   "outputs": [
    {
     "name": "stdout",
     "output_type": "stream",
     "text": [
      "Fitting 5 folds for each of 270 candidates, totalling 1350 fits\n",
      "CPU times: total: 4.95 s\n",
      "Wall time: 20.7 s\n",
      "Best params : {'pca': PCA(n_components=5), 'pca__n_components': 5, 'regressor': HuberRegressor(alpha=0.01), 'regressor__alpha': 0.01, 'scaler': RobustScaler()}\n",
      "Best MAPE 0.019\n"
     ]
    }
   ],
   "source": [
    "# Pipeline with dimentionality reduction, target metric - MAE\n",
    "\n",
    "pipeline = Pipeline([\n",
    "('scaler', StandardScaler()),\n",
    "('pca', PCA()),\n",
    "('regressor', Lasso())\n",
    "])\n",
    "\n",
    "param_grid = {'scaler': [StandardScaler(), MinMaxScaler(), RobustScaler()],\n",
    "    'pca': [PCA()],         \n",
    "    'pca__n_components': range(1, 6),\n",
    "    'regressor': [Lasso(), Ridge(), HuberRegressor()],\n",
    "    'regressor__alpha': [0, 0.01, 0.1, 1.0, 10, 100]\n",
    "}\n",
    "\n",
    "grid_search = GridSearchCV(pipeline, param_grid, cv=5, scoring='neg_mean_absolute_percentage_error', verbose=1, n_jobs=10)\n",
    "%time grid_search.fit(X, y)\n",
    "\n",
    "print(\"Best params :\", grid_search.best_params_)\n",
    "print(\"Best MAPE %.3f\"% -grid_search.best_score_)"
   ]
  },
  {
   "cell_type": "code",
   "execution_count": 13,
   "id": "a51e7b23-a809-4ee1-9fe1-9c71f2fb8489",
   "metadata": {
    "tags": []
   },
   "outputs": [
    {
     "name": "stdout",
     "output_type": "stream",
     "text": [
      "Pipeline R-square: 0.749\n",
      "Pipeline MAE: 20417572\n",
      "Pipeline MAPE: 0.3793\n"
     ]
    }
   ],
   "source": [
    "pipeline = Pipeline([\n",
    "('scaler', grid_search.best_params_['scaler']),\n",
    "('pca', grid_search.best_params_['pca']),\n",
    "('regressor', grid_search.best_params_['regressor'])\n",
    "])\n",
    "\n",
    "pipeline.fit(X, y)\n",
    "print('Pipeline R-square: %.3f'%pipeline.score(X, y))\n",
    "fitted = pipeline.predict(X)\n",
    "print('Pipeline MAE: %.0f'%mae(np.exp(y), np.exp(fitted)))\n",
    "print('Pipeline MAPE: %.4f'%mape(np.exp(y), np.exp(fitted)))"
   ]
  },
  {
   "cell_type": "code",
   "execution_count": 14,
   "id": "14d606f5-d503-46b2-a661-a0a5354c5a3a",
   "metadata": {
    "tags": []
   },
   "outputs": [
    {
     "name": "stdout",
     "output_type": "stream",
     "text": [
      "Pipeline test MAE: 20092720\n",
      "Pipeline test MAPE: 0.3552\n"
     ]
    }
   ],
   "source": [
    "predicted = pipeline.predict(X_test)\n",
    "print('Pipeline test MAE: %.0f'%mae(y_test, np.exp(predicted)))\n",
    "print('Pipeline test MAPE: %.4f'%mape(y_test, np.exp(predicted)))"
   ]
  },
  {
   "cell_type": "markdown",
   "id": "9fde5c04-d187-4e06-80fb-a4bcc9bfd5ea",
   "metadata": {},
   "source": [
    "# Pipelines with Scaler and Regularization"
   ]
  },
  {
   "cell_type": "code",
   "execution_count": 15,
   "id": "606dde8e-7236-442d-8969-cef56f38b12d",
   "metadata": {
    "tags": []
   },
   "outputs": [
    {
     "name": "stdout",
     "output_type": "stream",
     "text": [
      "Fitting 5 folds for each of 54 candidates, totalling 270 fits\n",
      "CPU times: total: 1.23 s\n",
      "Wall time: 5.79 s\n",
      "Best params : {'regressor': Ridge(alpha=10), 'regressor__alpha': 10, 'scaler': StandardScaler()}\n",
      "Best R2 0.808\n"
     ]
    }
   ],
   "source": [
    "# Pipeline with dimentionality reduction, target metric - R-square\n",
    "\n",
    "pipeline = Pipeline([\n",
    "('scaler', StandardScaler()),\n",
    "('regressor', Lasso())\n",
    "])\n",
    "\n",
    "param_grid = {'scaler': [StandardScaler(), MinMaxScaler(), RobustScaler()],\n",
    "    'regressor': [Lasso(), Ridge(), HuberRegressor()],\n",
    "    'regressor__alpha': [0, 0.01, 0.1, 1.0, 10, 100]\n",
    "}\n",
    "\n",
    "grid_search = GridSearchCV(pipeline, param_grid, cv=5, scoring='r2', verbose=1, n_jobs=10)\n",
    "%time grid_search.fit(X, y)\n",
    "\n",
    "print(\"Best params :\", grid_search.best_params_)\n",
    "print(\"Best R2 %.3f\"% grid_search.best_score_)"
   ]
  },
  {
   "cell_type": "code",
   "execution_count": 16,
   "id": "bd895d4a-7664-4bfd-badc-f2f61a2ae13c",
   "metadata": {
    "tags": []
   },
   "outputs": [
    {
     "name": "stdout",
     "output_type": "stream",
     "text": [
      "Fitting 5 folds for each of 54 candidates, totalling 270 fits\n",
      "CPU times: total: 1.25 s\n",
      "Wall time: 6.24 s\n",
      "Best params : {'regressor': HuberRegressor(alpha=1.0), 'regressor__alpha': 1.0, 'scaler': RobustScaler()}\n",
      "Best MAE 0.300\n"
     ]
    }
   ],
   "source": [
    "# Pipeline with dimentionality reduction, target metric - MAE\n",
    "\n",
    "pipeline = Pipeline([\n",
    "('scaler', StandardScaler()),\n",
    "('regressor', Lasso())\n",
    "])\n",
    "\n",
    "param_grid = {'scaler': [StandardScaler(), MinMaxScaler(), RobustScaler()],\n",
    "    'regressor': [Lasso(), Ridge(), HuberRegressor()],\n",
    "    'regressor__alpha': [0, 0.01, 0.1, 1.0, 10, 100]\n",
    "}\n",
    "\n",
    "grid_search = GridSearchCV(pipeline, param_grid, cv=5, scoring='neg_mean_absolute_error', verbose=1, n_jobs=10)\n",
    "%time grid_search.fit(X, y)\n",
    "\n",
    "print(\"Best params :\", grid_search.best_params_)\n",
    "print(\"Best MAE %.3f\"% -grid_search.best_score_)"
   ]
  },
  {
   "cell_type": "code",
   "execution_count": 17,
   "id": "2e935dcb-5b24-4692-8961-5cac378186d0",
   "metadata": {
    "tags": []
   },
   "outputs": [
    {
     "name": "stdout",
     "output_type": "stream",
     "text": [
      "Fitting 5 folds for each of 54 candidates, totalling 270 fits\n",
      "CPU times: total: 1.12 s\n",
      "Wall time: 6.1 s\n",
      "Best params : {'regressor': HuberRegressor(alpha=1.0), 'regressor__alpha': 1.0, 'scaler': RobustScaler()}\n",
      "Best MAPE 0.017\n"
     ]
    }
   ],
   "source": [
    "# Pipeline with dimentionality reduction, target metric - MAE\n",
    "\n",
    "pipeline = Pipeline([\n",
    "('scaler', StandardScaler()),\n",
    "('regressor', Lasso())\n",
    "])\n",
    "\n",
    "param_grid = {'scaler': [StandardScaler(), MinMaxScaler(), RobustScaler()],\n",
    "    'regressor': [Lasso(), Ridge(), HuberRegressor()],\n",
    "    'regressor__alpha': [0, 0.01, 0.1, 1.0, 10, 100]\n",
    "}\n",
    "\n",
    "grid_search = GridSearchCV(pipeline, param_grid, cv=5, scoring='neg_mean_absolute_percentage_error', verbose=1, n_jobs=10)\n",
    "%time grid_search.fit(X, y)\n",
    "\n",
    "print(\"Best params :\", grid_search.best_params_)\n",
    "print(\"Best MAPE %.3f\"% -grid_search.best_score_)"
   ]
  },
  {
   "cell_type": "code",
   "execution_count": 18,
   "id": "f1d99c28-b309-44e3-a168-b6f2d27cc91a",
   "metadata": {
    "tags": []
   },
   "outputs": [
    {
     "name": "stdout",
     "output_type": "stream",
     "text": [
      "Pipeline R-square: 0.804\n",
      "Pipeline MAE: 16798705\n",
      "Pipeline MAPE: 0.3339\n"
     ]
    }
   ],
   "source": [
    "pipeline = Pipeline([\n",
    "('scaler', grid_search.best_params_['scaler']),\n",
    "('regressor', grid_search.best_params_['regressor'])\n",
    "])\n",
    "\n",
    "pipeline.fit(X, y)\n",
    "print('Pipeline R-square: %.3f'%pipeline.score(X, y))\n",
    "fitted = pipeline.predict(X)\n",
    "print('Pipeline MAE: %.0f'%mae(np.exp(y), np.exp(fitted)))\n",
    "print('Pipeline MAPE: %.4f'%mape(np.exp(y), np.exp(fitted)))"
   ]
  },
  {
   "cell_type": "code",
   "execution_count": 19,
   "id": "74425a73-cca1-4314-929b-153a37f3faa3",
   "metadata": {
    "tags": []
   },
   "outputs": [
    {
     "name": "stdout",
     "output_type": "stream",
     "text": [
      "Pipeline test MAE: 16925166\n",
      "Pipeline test MAPE: 0.3100\n"
     ]
    }
   ],
   "source": [
    "predicted = pipeline.predict(X_test)\n",
    "print('Pipeline test MAE: %.0f'%mae(y_test, np.exp(predicted)))\n",
    "print('Pipeline test MAPE: %.4f'%mape(y_test, np.exp(predicted)))"
   ]
  },
  {
   "cell_type": "markdown",
   "id": "e9cb0dfe-e951-4511-8277-4a7ebf7050c8",
   "metadata": {},
   "source": [
    "# Random Forest"
   ]
  },
  {
   "cell_type": "code",
   "execution_count": 40,
   "id": "a91ee442-8444-419a-9f74-f304496b286f",
   "metadata": {
    "tags": []
   },
   "outputs": [
    {
     "name": "stdout",
     "output_type": "stream",
     "text": [
      "R2 on train: 0.986 \n",
      "\n",
      "MAE on train: 3785488 \n",
      "MAE on test: 10131021 \n",
      "\n",
      "MAPE on train: 0.075 \n",
      "MAPE on test: 0.201 \n"
     ]
    }
   ],
   "source": [
    "rf = RandomForestRegressor(random_state=0).fit(X, y)\n",
    "y_fitted = np.exp(rf.predict(X))\n",
    "y_predicted = np.exp(rf.predict(X_test))\n",
    "\n",
    "print('R2 on train: %.3f'%rf.score(X, y), '\\n')\n",
    "\n",
    "print('MAE on train: %.0f '% mae(np.exp(y), y_fitted))\n",
    "print('MAE on test: %.0f'% mae(y_test, y_predicted), '\\n')\n",
    "\n",
    "print('MAPE on train: %.3f '% mape(np.exp(y), y_fitted))\n",
    "print('MAPE on test: %.3f '% mape(y_test, y_predicted))"
   ]
  },
  {
   "cell_type": "code",
   "execution_count": 42,
   "id": "cfa833a5-6050-4e00-91e2-a6a9fa1c9e8a",
   "metadata": {
    "tags": []
   },
   "outputs": [
    {
     "name": "stdout",
     "output_type": "stream",
     "text": [
      "Fitting 5 folds for each of 54 candidates, totalling 270 fits\n",
      "CPU times: total: 3.8 s\n",
      "Wall time: 1min 33s\n",
      "Best params : {'max_depth': 9, 'max_features': 'auto', 'min_samples_leaf': 1, 'min_samples_split': 2}\n",
      "Best MAE 0.231\n"
     ]
    }
   ],
   "source": [
    "estimator = RandomForestRegressor(random_state=0, n_jobs=-1)\n",
    "param_grid = {'max_depth':  range(7, 10),\n",
    " 'max_features': ['auto', 'sqrt'],\n",
    " 'min_samples_leaf': [1, 2, 4],\n",
    " 'min_samples_split': [2, 5, 10]}\n",
    "\n",
    "grid_search = GridSearchCV(estimator, param_grid,cv=5, scoring='neg_mean_absolute_error', verbose=1, n_jobs=10)\n",
    "%time grid_search.fit(X, y)\n",
    "\n",
    "print(\"Best params :\", grid_search.best_params_)\n",
    "print(\"Best MAE %.3f\"% -grid_search.best_score_)"
   ]
  },
  {
   "cell_type": "code",
   "execution_count": 43,
   "id": "0b31c491-89ec-4264-abdb-158605a3c95b",
   "metadata": {
    "tags": []
   },
   "outputs": [
    {
     "name": "stdout",
     "output_type": "stream",
     "text": [
      "R2 on train: 0.923 \n",
      "\n",
      "MAE on train: 8759078 \n",
      "MAE on test: 12001613 \n",
      "\n",
      "MAPE on train: 0.199 \n",
      "MAPE on test: 0.229 \n"
     ]
    }
   ],
   "source": [
    "rf = RandomForestRegressor(random_state=0, n_jobs=-1, **grid_search.best_params_).fit(X, y)\n",
    "\n",
    "y_fitted = np.exp(rf.predict(X))\n",
    "y_predicted = np.exp(rf.predict(X_test))\n",
    "\n",
    "print('R2 on train: %.3f'%rf.score(X, y), '\\n')\n",
    "\n",
    "print('MAE on train: %.0f '% mae(np.exp(y), y_fitted))\n",
    "print('MAE on test: %.0f'% mae(y_test, y_predicted), '\\n')\n",
    "\n",
    "print('MAPE on train: %.3f '% mape(np.exp(y), y_fitted))\n",
    "print('MAPE on test: %.3f '% mape(y_test, y_predicted))"
   ]
  }
 ],
 "metadata": {
  "kernelspec": {
   "display_name": "Python 3 (ipykernel)",
   "language": "python",
   "name": "python3"
  },
  "language_info": {
   "codemirror_mode": {
    "name": "ipython",
    "version": 3
   },
   "file_extension": ".py",
   "mimetype": "text/x-python",
   "name": "python",
   "nbconvert_exporter": "python",
   "pygments_lexer": "ipython3",
   "version": "3.10.9"
  }
 },
 "nbformat": 4,
 "nbformat_minor": 5
}
