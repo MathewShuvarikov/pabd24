{
 "cells": [
  {
   "cell_type": "code",
   "execution_count": 1,
   "id": "710eb4dd-fec2-4026-ac0e-d35aa008659d",
   "metadata": {},
   "outputs": [
    {
     "name": "stderr",
     "output_type": "stream",
     "text": [
      "C:\\Users\\shuva\\anaconda3\\lib\\site-packages\\dask\\dataframe\\_pyarrow_compat.py:17: FutureWarning: Minimal version of pyarrow will soon be increased to 14.0.1. You are using 13.0.0. Please consider upgrading.\n",
      "  warnings.warn(\n"
     ]
    }
   ],
   "source": [
    "import argparse\n",
    "import logging\n",
    "import pandas as pd\n",
    "from sklearn.ensemble import RandomForestRegressor\n",
    "from sklearn.metrics import r2_score, mean_absolute_error as mae, mean_absolute_percentage_error as mape, make_scorer\n",
    "from sklearn.model_selection import cross_val_score\n",
    "from joblib import dump\n",
    "import numpy as np\n",
    "\n",
    "from sklearn.pipeline import Pipeline\n",
    "from sklearn.preprocessing import MinMaxScaler, StandardScaler, RobustScaler\n",
    "from sklearn.decomposition import PCA\n",
    "from sklearn.linear_model import LinearRegression, Ridge, Lasso, HuberRegressor\n",
    "from sklearn.model_selection import GridSearchCV\n",
    "from sklearn.metrics import mean_absolute_error as mae, mean_absolute_percentage_error as mape\n",
    "\n",
    "from lightgbm import LGBMRegressor\n",
    "import optuna\n",
    "\n",
    "import warnings\n",
    "warnings.filterwarnings('ignore')"
   ]
  },
  {
   "cell_type": "code",
   "execution_count": 2,
   "id": "8af193db-e565-47ea-98f0-e652b86d7df8",
   "metadata": {
    "tags": []
   },
   "outputs": [
    {
     "data": {
      "text/html": [
       "<div>\n",
       "<style scoped>\n",
       "    .dataframe tbody tr th:only-of-type {\n",
       "        vertical-align: middle;\n",
       "    }\n",
       "\n",
       "    .dataframe tbody tr th {\n",
       "        vertical-align: top;\n",
       "    }\n",
       "\n",
       "    .dataframe thead th {\n",
       "        text-align: right;\n",
       "    }\n",
       "</style>\n",
       "<table border=\"1\" class=\"dataframe\">\n",
       "  <thead>\n",
       "    <tr style=\"text-align: right;\">\n",
       "      <th></th>\n",
       "      <th>floor</th>\n",
       "      <th>floors_count</th>\n",
       "      <th>rooms_count</th>\n",
       "      <th>total_meters</th>\n",
       "      <th>price</th>\n",
       "      <th>top_bottom_floor</th>\n",
       "      <th>county_short_ВАО</th>\n",
       "      <th>county_short_ЗАО</th>\n",
       "      <th>county_short_ЗелАО</th>\n",
       "      <th>county_short_САО</th>\n",
       "      <th>county_short_СВАО</th>\n",
       "      <th>county_short_СЗАО</th>\n",
       "      <th>county_short_ТАО</th>\n",
       "      <th>county_short_ЦАО</th>\n",
       "      <th>county_short_ЮАО</th>\n",
       "      <th>county_short_ЮВАО</th>\n",
       "      <th>county_short_ЮЗАО</th>\n",
       "      <th>object_type_secondary</th>\n",
       "      <th>elite_estate</th>\n",
       "    </tr>\n",
       "  </thead>\n",
       "  <tbody>\n",
       "    <tr>\n",
       "      <th>0</th>\n",
       "      <td>2</td>\n",
       "      <td>9</td>\n",
       "      <td>2</td>\n",
       "      <td>46.0</td>\n",
       "      <td>10500000.0</td>\n",
       "      <td>0</td>\n",
       "      <td>0</td>\n",
       "      <td>0</td>\n",
       "      <td>0</td>\n",
       "      <td>0</td>\n",
       "      <td>0</td>\n",
       "      <td>0</td>\n",
       "      <td>0</td>\n",
       "      <td>0</td>\n",
       "      <td>0</td>\n",
       "      <td>1</td>\n",
       "      <td>0</td>\n",
       "      <td>1</td>\n",
       "      <td>0</td>\n",
       "    </tr>\n",
       "    <tr>\n",
       "      <th>1</th>\n",
       "      <td>16</td>\n",
       "      <td>30</td>\n",
       "      <td>1</td>\n",
       "      <td>33.4</td>\n",
       "      <td>13067704.0</td>\n",
       "      <td>0</td>\n",
       "      <td>0</td>\n",
       "      <td>0</td>\n",
       "      <td>0</td>\n",
       "      <td>0</td>\n",
       "      <td>0</td>\n",
       "      <td>0</td>\n",
       "      <td>0</td>\n",
       "      <td>0</td>\n",
       "      <td>0</td>\n",
       "      <td>0</td>\n",
       "      <td>1</td>\n",
       "      <td>0</td>\n",
       "      <td>0</td>\n",
       "    </tr>\n",
       "    <tr>\n",
       "      <th>2</th>\n",
       "      <td>6</td>\n",
       "      <td>7</td>\n",
       "      <td>2</td>\n",
       "      <td>94.0</td>\n",
       "      <td>130000000.0</td>\n",
       "      <td>0</td>\n",
       "      <td>0</td>\n",
       "      <td>0</td>\n",
       "      <td>0</td>\n",
       "      <td>0</td>\n",
       "      <td>0</td>\n",
       "      <td>0</td>\n",
       "      <td>0</td>\n",
       "      <td>1</td>\n",
       "      <td>0</td>\n",
       "      <td>0</td>\n",
       "      <td>0</td>\n",
       "      <td>1</td>\n",
       "      <td>1</td>\n",
       "    </tr>\n",
       "    <tr>\n",
       "      <th>3</th>\n",
       "      <td>2</td>\n",
       "      <td>31</td>\n",
       "      <td>3</td>\n",
       "      <td>82.9</td>\n",
       "      <td>29900000.0</td>\n",
       "      <td>0</td>\n",
       "      <td>0</td>\n",
       "      <td>1</td>\n",
       "      <td>0</td>\n",
       "      <td>0</td>\n",
       "      <td>0</td>\n",
       "      <td>0</td>\n",
       "      <td>0</td>\n",
       "      <td>0</td>\n",
       "      <td>0</td>\n",
       "      <td>0</td>\n",
       "      <td>0</td>\n",
       "      <td>1</td>\n",
       "      <td>0</td>\n",
       "    </tr>\n",
       "    <tr>\n",
       "      <th>4</th>\n",
       "      <td>10</td>\n",
       "      <td>25</td>\n",
       "      <td>2</td>\n",
       "      <td>56.0</td>\n",
       "      <td>33000000.0</td>\n",
       "      <td>0</td>\n",
       "      <td>0</td>\n",
       "      <td>0</td>\n",
       "      <td>0</td>\n",
       "      <td>0</td>\n",
       "      <td>0</td>\n",
       "      <td>1</td>\n",
       "      <td>0</td>\n",
       "      <td>0</td>\n",
       "      <td>0</td>\n",
       "      <td>0</td>\n",
       "      <td>0</td>\n",
       "      <td>1</td>\n",
       "      <td>1</td>\n",
       "    </tr>\n",
       "  </tbody>\n",
       "</table>\n",
       "</div>"
      ],
      "text/plain": [
       "   floor  floors_count  rooms_count  total_meters        price  \\\n",
       "0      2             9            2          46.0   10500000.0   \n",
       "1     16            30            1          33.4   13067704.0   \n",
       "2      6             7            2          94.0  130000000.0   \n",
       "3      2            31            3          82.9   29900000.0   \n",
       "4     10            25            2          56.0   33000000.0   \n",
       "\n",
       "   top_bottom_floor  county_short_ВАО  county_short_ЗАО  county_short_ЗелАО  \\\n",
       "0                 0                 0                 0                   0   \n",
       "1                 0                 0                 0                   0   \n",
       "2                 0                 0                 0                   0   \n",
       "3                 0                 0                 1                   0   \n",
       "4                 0                 0                 0                   0   \n",
       "\n",
       "   county_short_САО  county_short_СВАО  county_short_СЗАО  county_short_ТАО  \\\n",
       "0                 0                  0                  0                 0   \n",
       "1                 0                  0                  0                 0   \n",
       "2                 0                  0                  0                 0   \n",
       "3                 0                  0                  0                 0   \n",
       "4                 0                  0                  1                 0   \n",
       "\n",
       "   county_short_ЦАО  county_short_ЮАО  county_short_ЮВАО  county_short_ЮЗАО  \\\n",
       "0                 0                 0                  1                  0   \n",
       "1                 0                 0                  0                  1   \n",
       "2                 1                 0                  0                  0   \n",
       "3                 0                 0                  0                  0   \n",
       "4                 0                 0                  0                  0   \n",
       "\n",
       "   object_type_secondary  elite_estate  \n",
       "0                      1             0  \n",
       "1                      0             0  \n",
       "2                      1             1  \n",
       "3                      1             0  \n",
       "4                      1             1  "
      ]
     },
     "execution_count": 2,
     "metadata": {},
     "output_type": "execute_result"
    }
   ],
   "source": [
    "train = pd.read_csv('../data/proc/train.csv')\n",
    "test = pd.read_csv('../data/proc/val.csv')\n",
    "train.head()"
   ]
  },
  {
   "cell_type": "code",
   "execution_count": 3,
   "id": "b03d08b5-493a-4a92-ab4c-84f8f7ad5490",
   "metadata": {
    "tags": []
   },
   "outputs": [],
   "source": [
    "X = train.drop(columns='price')\n",
    "y = np.log(train.price)\n",
    "\n",
    "X_test = test.drop(columns='price')\n",
    "y_test = test.price"
   ]
  },
  {
   "cell_type": "markdown",
   "id": "76f8b281-8a3a-423f-80be-216ab706c0fa",
   "metadata": {},
   "source": [
    "# Классическая линейная регрессия с ln(y)"
   ]
  },
  {
   "cell_type": "code",
   "execution_count": 5,
   "id": "b61e5235-31a0-4be1-b3fa-9f1c5a0ceb7f",
   "metadata": {
    "tags": []
   },
   "outputs": [
    {
     "name": "stdout",
     "output_type": "stream",
     "text": [
      "R2 on train: 0.537 \n",
      "\n",
      "MAE on train: 3,330,942\n",
      "MAE on test: 3,243,598\n",
      "MAPE on train: 0.219 \n",
      "MAPE on test: 0.213 \n"
     ]
    }
   ],
   "source": [
    "lm = LinearRegression().fit(X, y)\n",
    "y_fitted = np.exp(lm.predict(X))\n",
    "y_predicted = np.exp(lm.predict(X_test))\n",
    "\n",
    "print('R2 on train: %.3f'%lm.score(X, y), '\\n')\n",
    "\n",
    "print('MAE on train: {:,.0f}'.format(mae(np.exp(y), y_fitted)))\n",
    "print('MAE on test: {:,.0f}'.format(mae(y_test, y_predicted), '\\n'))\n",
    "\n",
    "print('MAPE on train: %.3f '% mape(np.exp(y), y_fitted))\n",
    "print('MAPE on test: %.3f '% mape(y_test, y_predicted))"
   ]
  },
  {
   "cell_type": "markdown",
   "id": "e4fbc16b-3ba4-4b96-a660-24317930d78d",
   "metadata": {},
   "source": [
    "# Pipelines with Scaler, dimentionaly reduction and regularization"
   ]
  },
  {
   "cell_type": "code",
   "execution_count": 6,
   "id": "319b16bc-9c1a-446f-9553-5ae371f2dfef",
   "metadata": {
    "tags": []
   },
   "outputs": [
    {
     "name": "stdout",
     "output_type": "stream",
     "text": [
      "Fitting 5 folds for each of 270 candidates, totalling 1350 fits\n",
      "CPU times: total: 2.66 s\n",
      "Wall time: 13.5 s\n",
      "Best params : {'pca': PCA(n_components=5), 'pca__n_components': 5, 'regressor': Ridge(alpha=10), 'regressor__alpha': 10, 'scaler': RobustScaler()}\n",
      "Best R2 0.475\n"
     ]
    }
   ],
   "source": [
    "# Pipeline with dimentionality reduction, target metric - R-square\n",
    "\n",
    "pipeline = Pipeline([\n",
    "('scaler', StandardScaler()),\n",
    "('pca', PCA()),\n",
    "('regressor', Lasso())\n",
    "])\n",
    "\n",
    "param_grid = {'scaler': [StandardScaler(), MinMaxScaler(), RobustScaler()],\n",
    "    'pca': [PCA()],         \n",
    "    'pca__n_components': range(1, 6),\n",
    "    'regressor': [Lasso(), Ridge(), HuberRegressor()],\n",
    "    'regressor__alpha': [0, 0.01, 0.1, 1.0, 10, 100]\n",
    "}\n",
    "\n",
    "grid_search = GridSearchCV(pipeline, param_grid, cv=5, scoring='r2', verbose=1, n_jobs=10)\n",
    "%time grid_search.fit(X, y)\n",
    "\n",
    "print(\"Best params :\", grid_search.best_params_)\n",
    "print(\"Best R2 %.3f\"% grid_search.best_score_)"
   ]
  },
  {
   "cell_type": "code",
   "execution_count": 7,
   "id": "986af1d7-66a0-4d99-8ca1-71eb6b95dbf8",
   "metadata": {
    "tags": []
   },
   "outputs": [
    {
     "name": "stdout",
     "output_type": "stream",
     "text": [
      "Fitting 5 folds for each of 270 candidates, totalling 1350 fits\n",
      "CPU times: total: 6.42 s\n",
      "Wall time: 19.3 s\n",
      "Best params : {'pca': PCA(n_components=5), 'pca__n_components': 5, 'regressor': HuberRegressor(alpha=0.1), 'regressor__alpha': 0.1, 'scaler': RobustScaler()}\n",
      "Best MAE 0.225\n"
     ]
    }
   ],
   "source": [
    "# Pipeline with dimentionality reduction, target metric - MAE\n",
    "\n",
    "pipeline = Pipeline([\n",
    "('scaler', StandardScaler()),\n",
    "('pca', PCA()),\n",
    "('regressor', Lasso())\n",
    "])\n",
    "\n",
    "param_grid = {'scaler': [StandardScaler(), MinMaxScaler(), RobustScaler()],\n",
    "    'pca': [PCA()],         \n",
    "    'pca__n_components': range(1, 6),\n",
    "    'regressor': [Lasso(), Ridge(), HuberRegressor()],\n",
    "    'regressor__alpha': [0, 0.01, 0.1, 1.0, 10, 100]\n",
    "}\n",
    "\n",
    "grid_search = GridSearchCV(pipeline, param_grid, cv=5, scoring='neg_mean_absolute_error', verbose=1, n_jobs=10)\n",
    "%time grid_search.fit(X, y)\n",
    "\n",
    "print(\"Best params :\", grid_search.best_params_)\n",
    "print(\"Best MAE %.3f\"% -grid_search.best_score_)"
   ]
  },
  {
   "cell_type": "code",
   "execution_count": 8,
   "id": "5df3474b-f067-4862-bac9-a63d4513eec6",
   "metadata": {
    "tags": []
   },
   "outputs": [
    {
     "name": "stdout",
     "output_type": "stream",
     "text": [
      "Fitting 5 folds for each of 270 candidates, totalling 1350 fits\n",
      "CPU times: total: 5.38 s\n",
      "Wall time: 19.1 s\n",
      "Best params : {'pca': PCA(n_components=5), 'pca__n_components': 5, 'regressor': HuberRegressor(alpha=0), 'regressor__alpha': 0, 'scaler': RobustScaler()}\n",
      "Best MAPE 0.014\n"
     ]
    }
   ],
   "source": [
    "# Pipeline with dimentionality reduction, target metric - MAE\n",
    "\n",
    "pipeline = Pipeline([\n",
    "('scaler', StandardScaler()),\n",
    "('pca', PCA()),\n",
    "('regressor', Lasso())\n",
    "])\n",
    "\n",
    "param_grid = {'scaler': [StandardScaler(), MinMaxScaler(), RobustScaler()],\n",
    "    'pca': [PCA()],         \n",
    "    'pca__n_components': range(1, 6),\n",
    "    'regressor': [Lasso(), Ridge(), HuberRegressor()],\n",
    "    'regressor__alpha': [0, 0.01, 0.1, 1.0, 10, 100]\n",
    "}\n",
    "\n",
    "grid_search = GridSearchCV(pipeline, param_grid, cv=5, scoring='neg_mean_absolute_percentage_error', verbose=1, n_jobs=10)\n",
    "%time grid_search.fit(X, y)\n",
    "\n",
    "print(\"Best params :\", grid_search.best_params_)\n",
    "print(\"Best MAPE %.3f\"% -grid_search.best_score_)"
   ]
  },
  {
   "cell_type": "code",
   "execution_count": 9,
   "id": "a51e7b23-a809-4ee1-9fe1-9c71f2fb8489",
   "metadata": {
    "tags": []
   },
   "outputs": [
    {
     "name": "stdout",
     "output_type": "stream",
     "text": [
      "Pipeline R-square: 0.476\n",
      "MAE on train: 3,330,942\n",
      "Pipeline MAPE: 0.2301\n"
     ]
    }
   ],
   "source": [
    "pipeline = Pipeline([\n",
    "('scaler', grid_search.best_params_['scaler']),\n",
    "('pca', grid_search.best_params_['pca']),\n",
    "('regressor', grid_search.best_params_['regressor'])\n",
    "])\n",
    "\n",
    "pipeline.fit(X, y)\n",
    "print('Pipeline R-square: %.3f'%pipeline.score(X, y))\n",
    "fitted = pipeline.predict(X)\n",
    "print('MAE on train: {:,.0f}'.format(mae(np.exp(y), y_fitted)))\n",
    "print('Pipeline MAPE: %.4f'%mape(np.exp(y), np.exp(fitted)))"
   ]
  },
  {
   "cell_type": "code",
   "execution_count": 10,
   "id": "14d606f5-d503-46b2-a661-a0a5354c5a3a",
   "metadata": {
    "tags": []
   },
   "outputs": [
    {
     "name": "stdout",
     "output_type": "stream",
     "text": [
      "Pipeline test MAE: 3,434,499\n",
      "Pipeline test MAPE: 0.2222\n"
     ]
    }
   ],
   "source": [
    "predicted = pipeline.predict(X_test)\n",
    "print('Pipeline test MAE: {:,.0f}'.format(mae(y_test, np.exp(predicted))))\n",
    "print('Pipeline test MAPE: %.4f'%mape(y_test, np.exp(predicted)))"
   ]
  },
  {
   "cell_type": "markdown",
   "id": "9fde5c04-d187-4e06-80fb-a4bcc9bfd5ea",
   "metadata": {},
   "source": [
    "# Pipelines with Scaler and Regularization"
   ]
  },
  {
   "cell_type": "code",
   "execution_count": 10,
   "id": "606dde8e-7236-442d-8969-cef56f38b12d",
   "metadata": {
    "tags": []
   },
   "outputs": [
    {
     "name": "stdout",
     "output_type": "stream",
     "text": [
      "Fitting 5 folds for each of 54 candidates, totalling 270 fits\n",
      "CPU times: total: 1.86 s\n",
      "Wall time: 6.46 s\n",
      "Best params : {'regressor': Ridge(alpha=10), 'regressor__alpha': 10, 'scaler': StandardScaler()}\n",
      "Best R2 0.797\n"
     ]
    }
   ],
   "source": [
    "# Pipeline with dimentionality reduction, target metric - R-square\n",
    "\n",
    "pipeline = Pipeline([\n",
    "('scaler', StandardScaler()),\n",
    "('regressor', Lasso())\n",
    "])\n",
    "\n",
    "param_grid = {'scaler': [StandardScaler(), MinMaxScaler(), RobustScaler()],\n",
    "    'regressor': [Lasso(), Ridge(), HuberRegressor()],\n",
    "    'regressor__alpha': [0, 0.01, 0.1, 1.0, 10, 100]\n",
    "}\n",
    "\n",
    "grid_search = GridSearchCV(pipeline, param_grid, cv=5, scoring='r2', verbose=1, n_jobs=10)\n",
    "%time grid_search.fit(X, y)\n",
    "\n",
    "print(\"Best params :\", grid_search.best_params_)\n",
    "print(\"Best R2 %.3f\"% grid_search.best_score_)"
   ]
  },
  {
   "cell_type": "code",
   "execution_count": 11,
   "id": "bd895d4a-7664-4bfd-badc-f2f61a2ae13c",
   "metadata": {
    "tags": []
   },
   "outputs": [
    {
     "name": "stdout",
     "output_type": "stream",
     "text": [
      "Fitting 5 folds for each of 54 candidates, totalling 270 fits\n",
      "CPU times: total: 2.27 s\n",
      "Wall time: 6.88 s\n",
      "Best params : {'regressor': HuberRegressor(alpha=1.0), 'regressor__alpha': 1.0, 'scaler': RobustScaler()}\n",
      "Best MAE 0.298\n"
     ]
    }
   ],
   "source": [
    "# Pipeline with dimentionality reduction, target metric - MAE\n",
    "\n",
    "pipeline = Pipeline([\n",
    "('scaler', StandardScaler()),\n",
    "('regressor', Lasso())\n",
    "])\n",
    "\n",
    "param_grid = {'scaler': [StandardScaler(), MinMaxScaler(), RobustScaler()],\n",
    "    'regressor': [Lasso(), Ridge(), HuberRegressor()],\n",
    "    'regressor__alpha': [0, 0.01, 0.1, 1.0, 10, 100]\n",
    "}\n",
    "\n",
    "grid_search = GridSearchCV(pipeline, param_grid, cv=5, scoring='neg_mean_absolute_error', verbose=1, n_jobs=10)\n",
    "%time grid_search.fit(X, y)\n",
    "\n",
    "print(\"Best params :\", grid_search.best_params_)\n",
    "print(\"Best MAE %.3f\"% -grid_search.best_score_)"
   ]
  },
  {
   "cell_type": "code",
   "execution_count": 12,
   "id": "2e935dcb-5b24-4692-8961-5cac378186d0",
   "metadata": {
    "tags": []
   },
   "outputs": [
    {
     "name": "stdout",
     "output_type": "stream",
     "text": [
      "Fitting 5 folds for each of 54 candidates, totalling 270 fits\n",
      "CPU times: total: 1.59 s\n",
      "Wall time: 6.57 s\n",
      "Best params : {'regressor': HuberRegressor(alpha=1.0), 'regressor__alpha': 1.0, 'scaler': RobustScaler()}\n",
      "Best MAPE 0.017\n"
     ]
    }
   ],
   "source": [
    "# Pipeline with dimentionality reduction, target metric - MAE\n",
    "\n",
    "pipeline = Pipeline([\n",
    "('scaler', StandardScaler()),\n",
    "('regressor', Lasso())\n",
    "])\n",
    "\n",
    "param_grid = {'scaler': [StandardScaler(), MinMaxScaler(), RobustScaler()],\n",
    "    'regressor': [Lasso(), Ridge(), HuberRegressor()],\n",
    "    'regressor__alpha': [0, 0.01, 0.1, 1.0, 10, 100]\n",
    "}\n",
    "\n",
    "grid_search = GridSearchCV(pipeline, param_grid, cv=5, scoring='neg_mean_absolute_percentage_error', verbose=1, n_jobs=10)\n",
    "%time grid_search.fit(X, y)\n",
    "\n",
    "print(\"Best params :\", grid_search.best_params_)\n",
    "print(\"Best MAPE %.3f\"% -grid_search.best_score_)"
   ]
  },
  {
   "cell_type": "code",
   "execution_count": 13,
   "id": "f1d99c28-b309-44e3-a168-b6f2d27cc91a",
   "metadata": {
    "tags": []
   },
   "outputs": [
    {
     "name": "stdout",
     "output_type": "stream",
     "text": [
      "Pipeline R-square: 0.789\n",
      "Pipeline MAE 15,850,483\n",
      "Pipeline MAPE: 0.3327\n"
     ]
    }
   ],
   "source": [
    "pipeline = Pipeline([\n",
    "('scaler', grid_search.best_params_['scaler']),\n",
    "('regressor', grid_search.best_params_['regressor'])\n",
    "])\n",
    "\n",
    "pipeline.fit(X, y)\n",
    "print('Pipeline R-square: %.3f'%pipeline.score(X, y))\n",
    "fitted = pipeline.predict(X)\n",
    "print('Pipeline MAE {:,.0f}'.format(mae(np.exp(y), np.exp(fitted))))\n",
    "print('Pipeline MAPE: %.4f'%mape(np.exp(y), np.exp(fitted)))"
   ]
  },
  {
   "cell_type": "code",
   "execution_count": 14,
   "id": "74425a73-cca1-4314-929b-153a37f3faa3",
   "metadata": {
    "tags": []
   },
   "outputs": [
    {
     "name": "stdout",
     "output_type": "stream",
     "text": [
      "Pipeline test MAE: 16,721,307\n",
      "Pipeline test MAPE: 0.3243\n"
     ]
    }
   ],
   "source": [
    "predicted = pipeline.predict(X_test)\n",
    "print('Pipeline test MAE: {:,.0f}'.format(mae(y_test, np.exp(predicted))))\n",
    "print('Pipeline test MAPE: %.4f'%mape(y_test, np.exp(predicted)))"
   ]
  },
  {
   "cell_type": "markdown",
   "id": "e9cb0dfe-e951-4511-8277-4a7ebf7050c8",
   "metadata": {},
   "source": [
    "# Random Forest"
   ]
  },
  {
   "cell_type": "code",
   "execution_count": 11,
   "id": "a91ee442-8444-419a-9f74-f304496b286f",
   "metadata": {
    "tags": []
   },
   "outputs": [
    {
     "name": "stdout",
     "output_type": "stream",
     "text": [
      "R2 on train: 0.963 \n",
      "\n",
      "MAE on train: 899,936\n",
      "MAE on test: 2,375,257\n",
      "MAPE on train: 0.056 \n",
      "MAPE on test: 0.150 \n"
     ]
    }
   ],
   "source": [
    "rf = RandomForestRegressor(random_state=0).fit(X, y)\n",
    "y_fitted = np.exp(rf.predict(X))\n",
    "y_predicted = np.exp(rf.predict(X_test))\n",
    "\n",
    "print('R2 on train: %.3f'%rf.score(X, y), '\\n')\n",
    "\n",
    "print('MAE on train: {:,.0f}'.format( mae(np.exp(y), y_fitted)))\n",
    "print('MAE on test: {:,.0f}'.format(mae(y_test, y_predicted), '\\n'))\n",
    "\n",
    "print('MAPE on train: %.3f '% mape(np.exp(y), y_fitted))\n",
    "print('MAPE on test: %.3f '% mape(y_test, y_predicted))"
   ]
  },
  {
   "cell_type": "code",
   "execution_count": 12,
   "id": "cfa833a5-6050-4e00-91e2-a6a9fa1c9e8a",
   "metadata": {
    "tags": []
   },
   "outputs": [
    {
     "name": "stdout",
     "output_type": "stream",
     "text": [
      "Fitting 5 folds for each of 54 candidates, totalling 270 fits\n",
      "CPU times: total: 3.22 s\n",
      "Wall time: 1min 17s\n",
      "Best params : {'max_depth': 9, 'max_features': 'auto', 'min_samples_leaf': 2, 'min_samples_split': 2}\n",
      "Best MAE 0.173\n"
     ]
    }
   ],
   "source": [
    "estimator = RandomForestRegressor(random_state=0, n_jobs=-1)\n",
    "param_grid = {'max_depth':  range(7, 10),\n",
    " 'max_features': ['auto', 'sqrt'],\n",
    " 'min_samples_leaf': [1, 2, 4],\n",
    " 'min_samples_split': [2, 5, 10]}\n",
    "\n",
    "grid_search = GridSearchCV(estimator, param_grid,cv=5, scoring='neg_mean_absolute_error', verbose=1, n_jobs=10)\n",
    "%time grid_search.fit(X, y)\n",
    "\n",
    "print(\"Best params :\", grid_search.best_params_)\n",
    "print(\"Best MAE %.3f\"% -grid_search.best_score_)"
   ]
  },
  {
   "cell_type": "code",
   "execution_count": 13,
   "id": "0b31c491-89ec-4264-abdb-158605a3c95b",
   "metadata": {
    "tags": []
   },
   "outputs": [
    {
     "name": "stdout",
     "output_type": "stream",
     "text": [
      "R2 on train: 0.774 \n",
      "\n",
      "MAE on train: 2,356,800\n",
      "MAE on test: 2,685,352\n",
      "MAPE on train: 0.150 \n",
      "MAPE on test: 0.171 \n"
     ]
    }
   ],
   "source": [
    "rf = RandomForestRegressor(random_state=0, n_jobs=-1, **grid_search.best_params_).fit(X, y)\n",
    "\n",
    "y_fitted = np.exp(rf.predict(X))\n",
    "y_predicted = np.exp(rf.predict(X_test))\n",
    "\n",
    "print('R2 on train: %.3f'%rf.score(X, y), '\\n')\n",
    "\n",
    "print('MAE on train: {:,.0f}'.format(mae(np.exp(y), y_fitted)))\n",
    "print('MAE on test: {:,.0f}'.format(mae(y_test, y_predicted), '\\n'))\n",
    "\n",
    "print('MAPE on train: %.3f '% mape(np.exp(y), y_fitted))\n",
    "print('MAPE on test: %.3f '% mape(y_test, y_predicted))"
   ]
  },
  {
   "cell_type": "markdown",
   "id": "89f21305-2fb1-4cb4-8b51-ed0fe7703d68",
   "metadata": {},
   "source": [
    "# LGBM"
   ]
  },
  {
   "cell_type": "code",
   "execution_count": 14,
   "id": "30605df7-7597-4e85-8bc3-288ba2d4766e",
   "metadata": {
    "tags": []
   },
   "outputs": [
    {
     "name": "stderr",
     "output_type": "stream",
     "text": [
      "  File \"C:\\Users\\shuva\\anaconda3\\lib\\site-packages\\joblib\\externals\\loky\\backend\\context.py\", line 245, in _count_physical_cores\n",
      "    raise ValueError(\n"
     ]
    },
    {
     "name": "stdout",
     "output_type": "stream",
     "text": [
      "[LightGBM] [Info] Total Bins 393\n",
      "[LightGBM] [Info] Number of data points in the train set: 5236, number of used features: 16\n",
      "[LightGBM] [Info] Start training from score 16.538973\n",
      "R2 on train: 0.807 \n",
      "\n",
      "MAE on train: 2,176,704\n",
      "MAE on test: 2,523,572\n",
      "MAPE on train: 0.137 \n",
      "MAPE on test: 0.160 \n"
     ]
    }
   ],
   "source": [
    "lgbm = LGBMRegressor(random_state=0, force_row_wise=True).fit(X, y)\n",
    "y_fitted = np.exp(lgbm.predict(X))\n",
    "y_predicted = np.exp(lgbm.predict(X_test))\n",
    "\n",
    "print('R2 on train: %.3f'%lgbm.score(X, y), '\\n')\n",
    "\n",
    "print('MAE on train: {:,.0f}'.format(mae(np.exp(y), y_fitted)))\n",
    "print('MAE on test: {:,.0f}'.format(mae(y_test, y_predicted), '\\n'))\n",
    "\n",
    "print('MAPE on train: %.3f '% mape(np.exp(y), y_fitted))\n",
    "print('MAPE on test: %.3f '% mape(y_test, y_predicted))"
   ]
  },
  {
   "cell_type": "code",
   "execution_count": null,
   "id": "8f6ccc83-1aad-488d-89f2-52ceec107d23",
   "metadata": {},
   "outputs": [],
   "source": []
  },
  {
   "cell_type": "code",
   "execution_count": 15,
   "id": "e90e5e52-bb56-49ed-8f2a-23e4e53d9364",
   "metadata": {
    "tags": []
   },
   "outputs": [],
   "source": [
    "def objective(trial):\n",
    "    params = {\n",
    "        \"n_estimators\": trial.suggest_int(\"n_estimators\", 50, 100), \n",
    "        \"max_depth\": trial.suggest_int(\"max_depth\", 2, 5),\n",
    "        'learning_rate': trial.suggest_float('learning_rate', 0.05, 0.25), \n",
    "        'num_leaves': trial.suggest_int(\"num_leaves\", 10, 20),\n",
    "        'reg_alpha': trial.suggest_float('reg_alpha', 0.001, 100.0),\n",
    "        'reg_lambda': trial.suggest_float('reg_lambda', 0.001, 100.0)\n",
    "    }\n",
    "\n",
    "    model = LGBMRegressor(**params, random_state=0, n_jobs=-1, force_row_wise=True)\n",
    "    return cross_val_score(model, X, y, cv=9, scoring='neg_mean_absolute_error', n_jobs=-1).mean()"
   ]
  },
  {
   "cell_type": "code",
   "execution_count": 16,
   "id": "88eefac2-38b5-4316-9b01-45cb093fd565",
   "metadata": {
    "collapsed": true,
    "jupyter": {
     "outputs_hidden": true
    },
    "scrolled": true,
    "tags": []
   },
   "outputs": [
    {
     "name": "stderr",
     "output_type": "stream",
     "text": [
      "[I 2024-05-27 12:38:31,529] A new study created in memory with name: no-name-3260e561-2aaa-4cb4-8cdc-1835f3885de8\n"
     ]
    },
    {
     "data": {
      "application/vnd.jupyter.widget-view+json": {
       "model_id": "fc851dd06c1e47feb079183eed1abc3c",
       "version_major": 2,
       "version_minor": 0
      },
      "text/plain": [
       "  0%|          | 0/50 [00:00<?, ?it/s]"
      ]
     },
     "metadata": {},
     "output_type": "display_data"
    },
    {
     "name": "stdout",
     "output_type": "stream",
     "text": [
      "[I 2024-05-27 12:38:37,849] Trial 7 finished with value: -0.2255387332051293 and parameters: {'n_estimators': 71, 'max_depth': 2, 'learning_rate': 0.20572384569087449, 'num_leaves': 20, 'reg_alpha': 72.0256200805694, 'reg_lambda': 1.6853727528921925}. Best is trial 7 with value: -0.2255387332051293.\n",
      "[I 2024-05-27 12:38:38,529] Trial 3 finished with value: -0.18605792403053303 and parameters: {'n_estimators': 73, 'max_depth': 3, 'learning_rate': 0.20962114783430003, 'num_leaves': 11, 'reg_alpha': 10.71384441265338, 'reg_lambda': 76.20350900102852}. Best is trial 3 with value: -0.18605792403053303.\n",
      "[I 2024-05-27 12:38:38,682] Trial 0 finished with value: -0.1852366286472938 and parameters: {'n_estimators': 81, 'max_depth': 5, 'learning_rate': 0.20386340847558576, 'num_leaves': 14, 'reg_alpha': 12.397235554170663, 'reg_lambda': 23.398761440112164}. Best is trial 0 with value: -0.1852366286472938.\n",
      "[I 2024-05-27 12:38:38,864] Trial 1 finished with value: -0.19871728469460603 and parameters: {'n_estimators': 59, 'max_depth': 2, 'learning_rate': 0.20468952124935053, 'num_leaves': 17, 'reg_alpha': 19.87622058918672, 'reg_lambda': 48.80212837023798}. Best is trial 0 with value: -0.1852366286472938.\n",
      "[I 2024-05-27 12:38:39,028] Trial 4 finished with value: -0.2327193787032974 and parameters: {'n_estimators': 79, 'max_depth': 2, 'learning_rate': 0.05429261814357747, 'num_leaves': 16, 'reg_alpha': 82.38333280313421, 'reg_lambda': 55.654589383931}. Best is trial 0 with value: -0.1852366286472938.\n",
      "[I 2024-05-27 12:38:39,689] Trial 2 finished with value: -0.19565399271754902 and parameters: {'n_estimators': 55, 'max_depth': 4, 'learning_rate': 0.1969559971164574, 'num_leaves': 18, 'reg_alpha': 23.216941878947303, 'reg_lambda': 68.15986659819411}. Best is trial 0 with value: -0.1852366286472938.\n",
      "[I 2024-05-27 12:38:39,714] Trial 5 finished with value: -0.22527263416113966 and parameters: {'n_estimators': 93, 'max_depth': 3, 'learning_rate': 0.20307608190687326, 'num_leaves': 18, 'reg_alpha': 72.40705470986818, 'reg_lambda': 95.92800848997166}. Best is trial 0 with value: -0.1852366286472938.\n",
      "[I 2024-05-27 12:38:39,779] Trial 6 finished with value: -0.2202903372780728 and parameters: {'n_estimators': 75, 'max_depth': 3, 'learning_rate': 0.11597718854646055, 'num_leaves': 20, 'reg_alpha': 58.36387655049474, 'reg_lambda': 6.4132228709421835}. Best is trial 0 with value: -0.1852366286472938.\n",
      "[I 2024-05-27 12:38:40,283] Trial 8 finished with value: -0.20290508270954577 and parameters: {'n_estimators': 67, 'max_depth': 4, 'learning_rate': 0.1636255777925423, 'num_leaves': 12, 'reg_alpha': 30.84604087429402, 'reg_lambda': 14.219118846168278}. Best is trial 0 with value: -0.1852366286472938.\n",
      "[I 2024-05-27 12:38:40,846] Trial 9 finished with value: -0.22027125516274498 and parameters: {'n_estimators': 79, 'max_depth': 5, 'learning_rate': 0.13126315674557537, 'num_leaves': 14, 'reg_alpha': 59.45808778288737, 'reg_lambda': 50.05025001241033}. Best is trial 0 with value: -0.1852366286472938.\n",
      "[I 2024-05-27 12:38:41,119] Trial 10 finished with value: -0.2287345781374603 and parameters: {'n_estimators': 59, 'max_depth': 2, 'learning_rate': 0.10058425801684674, 'num_leaves': 19, 'reg_alpha': 79.45010752029717, 'reg_lambda': 41.53916615549456}. Best is trial 0 with value: -0.1852366286472938.\n",
      "[I 2024-05-27 12:38:42,281] Trial 11 finished with value: -0.18948577368319863 and parameters: {'n_estimators': 96, 'max_depth': 5, 'learning_rate': 0.21721804216034007, 'num_leaves': 13, 'reg_alpha': 16.64239065165064, 'reg_lambda': 55.03169938443824}. Best is trial 0 with value: -0.1852366286472938.\n",
      "[I 2024-05-27 12:38:42,645] Trial 12 finished with value: -0.23217846057067254 and parameters: {'n_estimators': 98, 'max_depth': 4, 'learning_rate': 0.23835857305544983, 'num_leaves': 11, 'reg_alpha': 97.2464796142539, 'reg_lambda': 94.11329545087364}. Best is trial 0 with value: -0.1852366286472938.\n",
      "[I 2024-05-27 12:38:43,649] Trial 14 finished with value: -0.2313538387541399 and parameters: {'n_estimators': 88, 'max_depth': 5, 'learning_rate': 0.21208010283681067, 'num_leaves': 11, 'reg_alpha': 92.70044096225183, 'reg_lambda': 14.014331853574085}. Best is trial 0 with value: -0.1852366286472938.\n",
      "[I 2024-05-27 12:38:43,751] Trial 13 finished with value: -0.23322434520218416 and parameters: {'n_estimators': 71, 'max_depth': 3, 'learning_rate': 0.052858292167705635, 'num_leaves': 10, 'reg_alpha': 80.92390003651663, 'reg_lambda': 96.94552783929541}. Best is trial 0 with value: -0.1852366286472938.\n",
      "[I 2024-05-27 12:38:44,202] Trial 15 finished with value: -0.21685268538466865 and parameters: {'n_estimators': 88, 'max_depth': 3, 'learning_rate': 0.17602919767770542, 'num_leaves': 15, 'reg_alpha': 51.664530850197146, 'reg_lambda': 26.11581061979789}. Best is trial 0 with value: -0.1852366286472938.\n",
      "[I 2024-05-27 12:38:44,578] Trial 16 finished with value: -0.22134419089142104 and parameters: {'n_estimators': 58, 'max_depth': 3, 'learning_rate': 0.05439183186775334, 'num_leaves': 16, 'reg_alpha': 40.58228165691358, 'reg_lambda': 31.859595775316144}. Best is trial 0 with value: -0.1852366286472938.\n",
      "[I 2024-05-27 12:38:46,027] Trial 17 finished with value: -0.17053004670869407 and parameters: {'n_estimators': 94, 'max_depth': 5, 'learning_rate': 0.2473977841988333, 'num_leaves': 14, 'reg_alpha': 3.7483591186284784, 'reg_lambda': 28.398464459259525}. Best is trial 17 with value: -0.17053004670869407.\n",
      "[I 2024-05-27 12:38:46,380] Trial 18 finished with value: -0.18046521174848967 and parameters: {'n_estimators': 90, 'max_depth': 5, 'learning_rate': 0.24999580263210872, 'num_leaves': 10, 'reg_alpha': 8.672156094541588, 'reg_lambda': 26.056703171990506}. Best is trial 17 with value: -0.17053004670869407.\n",
      "[I 2024-05-27 12:38:47,263] Trial 19 finished with value: -0.1672577806250305 and parameters: {'n_estimators': 88, 'max_depth': 4, 'learning_rate': 0.23942477406847612, 'num_leaves': 10, 'reg_alpha': 0.5077145096115032, 'reg_lambda': 25.100502642095687}. Best is trial 19 with value: -0.1672577806250305.\n",
      "[I 2024-05-27 12:38:47,666] Trial 20 finished with value: -0.17442020970192237 and parameters: {'n_estimators': 88, 'max_depth': 3, 'learning_rate': 0.16498972028811731, 'num_leaves': 10, 'reg_alpha': 0.20725261889616853, 'reg_lambda': 28.209073491132777}. Best is trial 19 with value: -0.1672577806250305.\n",
      "[I 2024-05-27 12:38:48,260] Trial 21 finished with value: -0.177711312322034 and parameters: {'n_estimators': 84, 'max_depth': 3, 'learning_rate': 0.17339034074664647, 'num_leaves': 10, 'reg_alpha': 3.4009374749589547, 'reg_lambda': 29.333680880234446}. Best is trial 19 with value: -0.1672577806250305.\n",
      "[I 2024-05-27 12:38:49,170] Trial 22 finished with value: -0.17441209065864702 and parameters: {'n_estimators': 85, 'max_depth': 4, 'learning_rate': 0.17174406619554994, 'num_leaves': 15, 'reg_alpha': 1.9378309858983744, 'reg_lambda': 74.81145926182333}. Best is trial 19 with value: -0.1672577806250305.\n",
      "[I 2024-05-27 12:38:49,888] Trial 23 finished with value: -0.17292905360237557 and parameters: {'n_estimators': 86, 'max_depth': 4, 'learning_rate': 0.2486309820704628, 'num_leaves': 13, 'reg_alpha': 3.642624524937146, 'reg_lambda': 76.13229132278511}. Best is trial 19 with value: -0.1672577806250305.\n",
      "[I 2024-05-27 12:38:50,635] Trial 24 finished with value: -0.16923939402035273 and parameters: {'n_estimators': 85, 'max_depth': 4, 'learning_rate': 0.24999369402706403, 'num_leaves': 13, 'reg_alpha': 0.7212885577400794, 'reg_lambda': 71.88054783596789}. Best is trial 19 with value: -0.1672577806250305.\n",
      "[I 2024-05-27 12:38:51,825] Trial 25 finished with value: -0.16586968826639736 and parameters: {'n_estimators': 86, 'max_depth': 5, 'learning_rate': 0.24681488010947256, 'num_leaves': 14, 'reg_alpha': 1.0374405840419012, 'reg_lambda': 28.361258497509773}. Best is trial 25 with value: -0.16586968826639736.\n",
      "[I 2024-05-27 12:38:52,562] Trial 26 finished with value: -0.16675320294517004 and parameters: {'n_estimators': 89, 'max_depth': 4, 'learning_rate': 0.24814701752892854, 'num_leaves': 13, 'reg_alpha': 0.6234799188050424, 'reg_lambda': 29.860572501143732}. Best is trial 25 with value: -0.16586968826639736.\n",
      "[I 2024-05-27 12:38:53,162] Trial 27 finished with value: -0.17699243444288118 and parameters: {'n_estimators': 100, 'max_depth': 4, 'learning_rate': 0.23846810047559303, 'num_leaves': 12, 'reg_alpha': 6.387617371435281, 'reg_lambda': 34.19937497928451}. Best is trial 25 with value: -0.16586968826639736.\n",
      "[I 2024-05-27 12:38:53,886] Trial 28 finished with value: -0.1708272390292731 and parameters: {'n_estimators': 84, 'max_depth': 4, 'learning_rate': 0.2364049260275956, 'num_leaves': 12, 'reg_alpha': 2.444922967837135, 'reg_lambda': 38.3151999548505}. Best is trial 25 with value: -0.16586968826639736.\n",
      "[I 2024-05-27 12:38:54,743] Trial 29 finished with value: -0.16793080709132438 and parameters: {'n_estimators': 93, 'max_depth': 4, 'learning_rate': 0.23612641469220363, 'num_leaves': 12, 'reg_alpha': 1.0796297030061213, 'reg_lambda': 38.078460625702775}. Best is trial 25 with value: -0.16586968826639736.\n",
      "[I 2024-05-27 12:38:55,772] Trial 30 finished with value: -0.16856433420832578 and parameters: {'n_estimators': 94, 'max_depth': 4, 'learning_rate': 0.23398703091201814, 'num_leaves': 13, 'reg_alpha': 1.6212776634789106, 'reg_lambda': 37.13011104454993}. Best is trial 25 with value: -0.16586968826639736.\n",
      "[I 2024-05-27 12:38:56,065] Trial 31 finished with value: -0.19587158392572535 and parameters: {'n_estimators': 100, 'max_depth': 4, 'learning_rate': 0.23685466532124086, 'num_leaves': 13, 'reg_alpha': 23.97483535457282, 'reg_lambda': 37.6715407905611}. Best is trial 25 with value: -0.16586968826639736.\n",
      "[I 2024-05-27 12:38:56,959] Trial 32 finished with value: -0.1974848361406848 and parameters: {'n_estimators': 100, 'max_depth': 4, 'learning_rate': 0.23021294383451357, 'num_leaves': 13, 'reg_alpha': 25.447534320918358, 'reg_lambda': 43.59282882040196}. Best is trial 25 with value: -0.16586968826639736.\n",
      "[I 2024-05-27 12:38:57,532] Trial 33 finished with value: -0.19514148873745094 and parameters: {'n_estimators': 82, 'max_depth': 4, 'learning_rate': 0.2284851480325634, 'num_leaves': 12, 'reg_alpha': 23.434737561149, 'reg_lambda': 38.8016002980479}. Best is trial 25 with value: -0.16586968826639736.\n",
      "[I 2024-05-27 12:38:58,193] Trial 34 finished with value: -0.19694945230138905 and parameters: {'n_estimators': 99, 'max_depth': 4, 'learning_rate': 0.22804953624497643, 'num_leaves': 12, 'reg_alpha': 25.197571764643946, 'reg_lambda': 36.743314067182304}. Best is trial 25 with value: -0.16586968826639736.\n",
      "[I 2024-05-27 12:38:58,790] Trial 35 finished with value: -0.19624195336656663 and parameters: {'n_estimators': 91, 'max_depth': 4, 'learning_rate': 0.22730226921590985, 'num_leaves': 12, 'reg_alpha': 24.044407140471783, 'reg_lambda': 37.67021056561675}. Best is trial 25 with value: -0.16586968826639736.\n",
      "[I 2024-05-27 12:38:59,468] Trial 36 finished with value: -0.18607449965337228 and parameters: {'n_estimators': 91, 'max_depth': 5, 'learning_rate': 0.22759585759066278, 'num_leaves': 14, 'reg_alpha': 13.41916009308281, 'reg_lambda': 20.372532356134542}. Best is trial 25 with value: -0.16586968826639736.\n",
      "[I 2024-05-27 12:39:00,044] Trial 37 finished with value: -0.18607512761548556 and parameters: {'n_estimators': 81, 'max_depth': 5, 'learning_rate': 0.2248533194103001, 'num_leaves': 14, 'reg_alpha': 13.38548166893233, 'reg_lambda': 19.041674537172714}. Best is trial 25 with value: -0.16586968826639736.\n",
      "[I 2024-05-27 12:39:00,721] Trial 38 finished with value: -0.1850788045575861 and parameters: {'n_estimators': 91, 'max_depth': 5, 'learning_rate': 0.22223361045097925, 'num_leaves': 14, 'reg_alpha': 11.866225737237142, 'reg_lambda': 19.768103590109646}. Best is trial 25 with value: -0.16586968826639736.\n",
      "[I 2024-05-27 12:39:01,390] Trial 39 finished with value: -0.18645098821741193 and parameters: {'n_estimators': 91, 'max_depth': 5, 'learning_rate': 0.22458442921148095, 'num_leaves': 14, 'reg_alpha': 13.527243100628437, 'reg_lambda': 19.766550436637775}. Best is trial 25 with value: -0.16586968826639736.\n",
      "[I 2024-05-27 12:39:02,170] Trial 40 finished with value: -0.18692858969125142 and parameters: {'n_estimators': 91, 'max_depth': 5, 'learning_rate': 0.22274505225195304, 'num_leaves': 14, 'reg_alpha': 14.264487307821621, 'reg_lambda': 18.741003121293872}. Best is trial 25 with value: -0.16586968826639736.\n",
      "[I 2024-05-27 12:39:02,904] Trial 41 finished with value: -0.18460106757870548 and parameters: {'n_estimators': 91, 'max_depth': 5, 'learning_rate': 0.22251148869885964, 'num_leaves': 14, 'reg_alpha': 11.957858940475216, 'reg_lambda': 20.300415560537125}. Best is trial 25 with value: -0.16586968826639736.\n",
      "[I 2024-05-27 12:39:03,633] Trial 42 finished with value: -0.1855017606359778 and parameters: {'n_estimators': 90, 'max_depth': 5, 'learning_rate': 0.21996079252539372, 'num_leaves': 14, 'reg_alpha': 12.656054204286436, 'reg_lambda': 16.410161171902878}. Best is trial 25 with value: -0.16586968826639736.\n",
      "[I 2024-05-27 12:39:04,174] Trial 43 finished with value: -0.18405150479071292 and parameters: {'n_estimators': 79, 'max_depth': 5, 'learning_rate': 0.21825214083065733, 'num_leaves': 14, 'reg_alpha': 11.400753220899107, 'reg_lambda': 20.949854634729196}. Best is trial 25 with value: -0.16586968826639736.\n",
      "[I 2024-05-27 12:39:04,869] Trial 44 finished with value: -0.1849207863816958 and parameters: {'n_estimators': 76, 'max_depth': 5, 'learning_rate': 0.19264171530057708, 'num_leaves': 16, 'reg_alpha': 12.084570064706861, 'reg_lambda': 16.943103999338355}. Best is trial 25 with value: -0.16586968826639736.\n",
      "[I 2024-05-27 12:39:05,378] Trial 45 finished with value: -0.18116494151378254 and parameters: {'n_estimators': 78, 'max_depth': 5, 'learning_rate': 0.2191306825374877, 'num_leaves': 11, 'reg_alpha': 9.492380466713797, 'reg_lambda': 22.255891652486532}. Best is trial 25 with value: -0.16586968826639736.\n",
      "[I 2024-05-27 12:39:06,071] Trial 46 finished with value: -0.1822904384399553 and parameters: {'n_estimators': 76, 'max_depth': 5, 'learning_rate': 0.19576610311230713, 'num_leaves': 11, 'reg_alpha': 10.288443104081674, 'reg_lambda': 32.23109338484236}. Best is trial 25 with value: -0.16586968826639736.\n",
      "[I 2024-05-27 12:39:07,209] Trial 47 finished with value: -0.1783257126681956 and parameters: {'n_estimators': 76, 'max_depth': 5, 'learning_rate': 0.1897759601143192, 'num_leaves': 16, 'reg_alpha': 7.5718191818167995, 'reg_lambda': 45.108650250068706}. Best is trial 25 with value: -0.16586968826639736.\n",
      "[I 2024-05-27 12:39:07,772] Trial 48 finished with value: -0.18230611837700783 and parameters: {'n_estimators': 95, 'max_depth': 4, 'learning_rate': 0.19538065570617258, 'num_leaves': 11, 'reg_alpha': 9.456319284794835, 'reg_lambda': 31.216344821146286}. Best is trial 25 with value: -0.16586968826639736.\n",
      "[I 2024-05-27 12:39:08,236] Trial 49 finished with value: -0.17934897355085566 and parameters: {'n_estimators': 95, 'max_depth': 4, 'learning_rate': 0.19595071416310494, 'num_leaves': 11, 'reg_alpha': 7.5232195897857865, 'reg_lambda': 33.12054120600862}. Best is trial 25 with value: -0.16586968826639736.\n"
     ]
    }
   ],
   "source": [
    "study = optuna.create_study(direction='maximize')\n",
    "study.optimize(objective, n_trials=50, show_progress_bar=True, n_jobs=-1)"
   ]
  },
  {
   "cell_type": "code",
   "execution_count": 17,
   "id": "d886c3c7-9753-4c77-83f1-3f0374389593",
   "metadata": {
    "tags": []
   },
   "outputs": [
    {
     "name": "stdout",
     "output_type": "stream",
     "text": [
      "Best hyperparameters: {'n_estimators': 86, 'max_depth': 5, 'learning_rate': 0.24681488010947256, 'num_leaves': 14, 'reg_alpha': 1.0374405840419012, 'reg_lambda': 28.361258497509773}\n",
      "Best MAE: 0.166\n"
     ]
    }
   ],
   "source": [
    "print('Best hyperparameters:', study.best_params)\n",
    "print('Best MAE: %.3f'% -study.best_value)"
   ]
  },
  {
   "cell_type": "code",
   "execution_count": 19,
   "id": "7f0725ca-654b-40c6-b7c8-729c5e566005",
   "metadata": {
    "collapsed": true,
    "jupyter": {
     "outputs_hidden": true
    },
    "tags": []
   },
   "outputs": [
    {
     "name": "stdout",
     "output_type": "stream",
     "text": [
      "[LightGBM] [Info] Auto-choosing col-wise multi-threading, the overhead of testing was 0.000543 seconds.\n",
      "You can set `force_col_wise=true` to remove the overhead.\n",
      "[LightGBM] [Info] Total Bins 393\n",
      "[LightGBM] [Info] Number of data points in the train set: 5236, number of used features: 16\n",
      "[LightGBM] [Info] Start training from score 16.538973\n",
      "[LightGBM] [Warning] No further splits with positive gain, best gain: -inf\n",
      "[LightGBM] [Warning] No further splits with positive gain, best gain: -inf\n",
      "[LightGBM] [Warning] No further splits with positive gain, best gain: -inf\n",
      "[LightGBM] [Warning] No further splits with positive gain, best gain: -inf\n",
      "[LightGBM] [Warning] No further splits with positive gain, best gain: -inf\n",
      "[LightGBM] [Warning] No further splits with positive gain, best gain: -inf\n",
      "[LightGBM] [Warning] No further splits with positive gain, best gain: -inf\n",
      "[LightGBM] [Warning] No further splits with positive gain, best gain: -inf\n",
      "[LightGBM] [Warning] No further splits with positive gain, best gain: -inf\n",
      "[LightGBM] [Warning] No further splits with positive gain, best gain: -inf\n",
      "[LightGBM] [Warning] No further splits with positive gain, best gain: -inf\n",
      "[LightGBM] [Warning] No further splits with positive gain, best gain: -inf\n",
      "[LightGBM] [Warning] No further splits with positive gain, best gain: -inf\n",
      "[LightGBM] [Warning] No further splits with positive gain, best gain: -inf\n",
      "[LightGBM] [Warning] No further splits with positive gain, best gain: -inf\n",
      "[LightGBM] [Warning] No further splits with positive gain, best gain: -inf\n",
      "[LightGBM] [Warning] No further splits with positive gain, best gain: -inf\n",
      "[LightGBM] [Warning] No further splits with positive gain, best gain: -inf\n",
      "[LightGBM] [Warning] No further splits with positive gain, best gain: -inf\n",
      "[LightGBM] [Warning] No further splits with positive gain, best gain: -inf\n",
      "[LightGBM] [Warning] No further splits with positive gain, best gain: -inf\n",
      "[LightGBM] [Warning] No further splits with positive gain, best gain: -inf\n",
      "[LightGBM] [Warning] No further splits with positive gain, best gain: -inf\n",
      "[LightGBM] [Warning] No further splits with positive gain, best gain: -inf\n",
      "[LightGBM] [Warning] No further splits with positive gain, best gain: -inf\n",
      "[LightGBM] [Warning] No further splits with positive gain, best gain: -inf\n",
      "[LightGBM] [Warning] No further splits with positive gain, best gain: -inf\n",
      "[LightGBM] [Warning] No further splits with positive gain, best gain: -inf\n",
      "[LightGBM] [Warning] No further splits with positive gain, best gain: -inf\n",
      "[LightGBM] [Warning] No further splits with positive gain, best gain: -inf\n",
      "R2 on train: 0.758 \n",
      "\n",
      "MAE on train: 2,452,583\n",
      "MAE on test: 2,649,701\n",
      "MAPE on train: 0.155 \n",
      "MAPE on test: 0.169 \n"
     ]
    }
   ],
   "source": [
    "lgbm = LGBMRegressor(random_state=0, n_jobs=-1, **study.best_params).fit(X, y)\n",
    "\n",
    "y_fitted = np.exp(lgbm.predict(X))\n",
    "y_predicted = np.exp(lgbm.predict(X_test))\n",
    "\n",
    "print('R2 on train: %.3f'%lgbm.score(X, y), '\\n')\n",
    "\n",
    "print('MAE on train: {:,.0f}'.format(mae(np.exp(y), y_fitted)))\n",
    "print('MAE on test: {:,.0f}'.format(mae(y_test, y_predicted), '\\n'))\n",
    "\n",
    "print('MAPE on train: %.3f '% mape(np.exp(y), y_fitted))\n",
    "print('MAPE on test: %.3f '% mape(y_test, y_predicted))"
   ]
  },
  {
   "cell_type": "markdown",
   "id": "5d101171-77a3-4a13-b058-429925c03e03",
   "metadata": {},
   "source": [
    "# KNN"
   ]
  },
  {
   "cell_type": "code",
   "execution_count": 30,
   "id": "03c7efc3-f177-4254-ad59-93a9e14bc479",
   "metadata": {
    "tags": []
   },
   "outputs": [],
   "source": [
    "from sklearn.neighbors import KNeighborsRegressor as knn"
   ]
  },
  {
   "cell_type": "code",
   "execution_count": 31,
   "id": "812d8a70-2a6f-4bef-acfa-cc8b240bd036",
   "metadata": {
    "tags": []
   },
   "outputs": [
    {
     "name": "stdout",
     "output_type": "stream",
     "text": [
      "R2 on train: 0.890 \n",
      "\n",
      "MAE on train: 9,540,852\n",
      "MAE on test: 13,422,751\n",
      "MAPE on train: 0.219 \n",
      "MAPE on test: 0.279 \n"
     ]
    }
   ],
   "source": [
    "rf = knn().fit(X, y)\n",
    "y_fitted = np.exp(rf.predict(X))\n",
    "y_predicted = np.exp(rf.predict(X_test))\n",
    "\n",
    "print('R2 on train: %.3f'%rf.score(X, y), '\\n')\n",
    "\n",
    "print('MAE on train: {:,.0f}'.format( mae(np.exp(y), y_fitted)))\n",
    "print('MAE on test: {:,.0f}'.format(mae(y_test, y_predicted), '\\n'))\n",
    "\n",
    "print('MAPE on train: %.3f '% mape(np.exp(y), y_fitted))\n",
    "print('MAPE on test: %.3f '% mape(y_test, y_predicted))"
   ]
  },
  {
   "cell_type": "code",
   "execution_count": 32,
   "id": "4dac9382-a262-4fba-9d76-3d45f1b9ffce",
   "metadata": {
    "tags": []
   },
   "outputs": [
    {
     "name": "stdout",
     "output_type": "stream",
     "text": [
      "Fitting 9 folds for each of 192 candidates, totalling 1728 fits\n",
      "CPU times: total: 1.27 s\n",
      "Wall time: 31.4 s\n"
     ]
    },
    {
     "data": {
      "text/html": [
       "<style>#sk-container-id-4 {color: black;background-color: white;}#sk-container-id-4 pre{padding: 0;}#sk-container-id-4 div.sk-toggleable {background-color: white;}#sk-container-id-4 label.sk-toggleable__label {cursor: pointer;display: block;width: 100%;margin-bottom: 0;padding: 0.3em;box-sizing: border-box;text-align: center;}#sk-container-id-4 label.sk-toggleable__label-arrow:before {content: \"▸\";float: left;margin-right: 0.25em;color: #696969;}#sk-container-id-4 label.sk-toggleable__label-arrow:hover:before {color: black;}#sk-container-id-4 div.sk-estimator:hover label.sk-toggleable__label-arrow:before {color: black;}#sk-container-id-4 div.sk-toggleable__content {max-height: 0;max-width: 0;overflow: hidden;text-align: left;background-color: #f0f8ff;}#sk-container-id-4 div.sk-toggleable__content pre {margin: 0.2em;color: black;border-radius: 0.25em;background-color: #f0f8ff;}#sk-container-id-4 input.sk-toggleable__control:checked~div.sk-toggleable__content {max-height: 200px;max-width: 100%;overflow: auto;}#sk-container-id-4 input.sk-toggleable__control:checked~label.sk-toggleable__label-arrow:before {content: \"▾\";}#sk-container-id-4 div.sk-estimator input.sk-toggleable__control:checked~label.sk-toggleable__label {background-color: #d4ebff;}#sk-container-id-4 div.sk-label input.sk-toggleable__control:checked~label.sk-toggleable__label {background-color: #d4ebff;}#sk-container-id-4 input.sk-hidden--visually {border: 0;clip: rect(1px 1px 1px 1px);clip: rect(1px, 1px, 1px, 1px);height: 1px;margin: -1px;overflow: hidden;padding: 0;position: absolute;width: 1px;}#sk-container-id-4 div.sk-estimator {font-family: monospace;background-color: #f0f8ff;border: 1px dotted black;border-radius: 0.25em;box-sizing: border-box;margin-bottom: 0.5em;}#sk-container-id-4 div.sk-estimator:hover {background-color: #d4ebff;}#sk-container-id-4 div.sk-parallel-item::after {content: \"\";width: 100%;border-bottom: 1px solid gray;flex-grow: 1;}#sk-container-id-4 div.sk-label:hover label.sk-toggleable__label {background-color: #d4ebff;}#sk-container-id-4 div.sk-serial::before {content: \"\";position: absolute;border-left: 1px solid gray;box-sizing: border-box;top: 0;bottom: 0;left: 50%;z-index: 0;}#sk-container-id-4 div.sk-serial {display: flex;flex-direction: column;align-items: center;background-color: white;padding-right: 0.2em;padding-left: 0.2em;position: relative;}#sk-container-id-4 div.sk-item {position: relative;z-index: 1;}#sk-container-id-4 div.sk-parallel {display: flex;align-items: stretch;justify-content: center;background-color: white;position: relative;}#sk-container-id-4 div.sk-item::before, #sk-container-id-4 div.sk-parallel-item::before {content: \"\";position: absolute;border-left: 1px solid gray;box-sizing: border-box;top: 0;bottom: 0;left: 50%;z-index: -1;}#sk-container-id-4 div.sk-parallel-item {display: flex;flex-direction: column;z-index: 1;position: relative;background-color: white;}#sk-container-id-4 div.sk-parallel-item:first-child::after {align-self: flex-end;width: 50%;}#sk-container-id-4 div.sk-parallel-item:last-child::after {align-self: flex-start;width: 50%;}#sk-container-id-4 div.sk-parallel-item:only-child::after {width: 0;}#sk-container-id-4 div.sk-dashed-wrapped {border: 1px dashed gray;margin: 0 0.4em 0.5em 0.4em;box-sizing: border-box;padding-bottom: 0.4em;background-color: white;}#sk-container-id-4 div.sk-label label {font-family: monospace;font-weight: bold;display: inline-block;line-height: 1.2em;}#sk-container-id-4 div.sk-label-container {text-align: center;}#sk-container-id-4 div.sk-container {/* jupyter's `normalize.less` sets `[hidden] { display: none; }` but bootstrap.min.css set `[hidden] { display: none !important; }` so we also need the `!important` here to be able to override the default hidden behavior on the sphinx rendered scikit-learn.org. See: https://github.com/scikit-learn/scikit-learn/issues/21755 */display: inline-block !important;position: relative;}#sk-container-id-4 div.sk-text-repr-fallback {display: none;}</style><div id=\"sk-container-id-4\" class=\"sk-top-container\"><div class=\"sk-text-repr-fallback\"><pre>GridSearchCV(cv=9, estimator=KNeighborsRegressor(n_jobs=-1), n_jobs=-1,\n",
       "             param_grid={&#x27;algorithm&#x27;: [&#x27;auto&#x27;, &#x27;ball_tree&#x27;, &#x27;kd_tree&#x27;, &#x27;brute&#x27;],\n",
       "                         &#x27;leaf_size&#x27;: [20, 30, 40, 50, 60, 70],\n",
       "                         &#x27;n_neighbors&#x27;: [2, 3], &#x27;p&#x27;: [1, 2],\n",
       "                         &#x27;weights&#x27;: [&#x27;uniform&#x27;, &#x27;distance&#x27;]},\n",
       "             scoring=&#x27;neg_mean_absolute_error&#x27;, verbose=1)</pre><b>In a Jupyter environment, please rerun this cell to show the HTML representation or trust the notebook. <br />On GitHub, the HTML representation is unable to render, please try loading this page with nbviewer.org.</b></div><div class=\"sk-container\" hidden><div class=\"sk-item sk-dashed-wrapped\"><div class=\"sk-label-container\"><div class=\"sk-label sk-toggleable\"><input class=\"sk-toggleable__control sk-hidden--visually\" id=\"sk-estimator-id-10\" type=\"checkbox\" ><label for=\"sk-estimator-id-10\" class=\"sk-toggleable__label sk-toggleable__label-arrow\">GridSearchCV</label><div class=\"sk-toggleable__content\"><pre>GridSearchCV(cv=9, estimator=KNeighborsRegressor(n_jobs=-1), n_jobs=-1,\n",
       "             param_grid={&#x27;algorithm&#x27;: [&#x27;auto&#x27;, &#x27;ball_tree&#x27;, &#x27;kd_tree&#x27;, &#x27;brute&#x27;],\n",
       "                         &#x27;leaf_size&#x27;: [20, 30, 40, 50, 60, 70],\n",
       "                         &#x27;n_neighbors&#x27;: [2, 3], &#x27;p&#x27;: [1, 2],\n",
       "                         &#x27;weights&#x27;: [&#x27;uniform&#x27;, &#x27;distance&#x27;]},\n",
       "             scoring=&#x27;neg_mean_absolute_error&#x27;, verbose=1)</pre></div></div></div><div class=\"sk-parallel\"><div class=\"sk-parallel-item\"><div class=\"sk-item\"><div class=\"sk-label-container\"><div class=\"sk-label sk-toggleable\"><input class=\"sk-toggleable__control sk-hidden--visually\" id=\"sk-estimator-id-11\" type=\"checkbox\" ><label for=\"sk-estimator-id-11\" class=\"sk-toggleable__label sk-toggleable__label-arrow\">estimator: KNeighborsRegressor</label><div class=\"sk-toggleable__content\"><pre>KNeighborsRegressor(n_jobs=-1)</pre></div></div></div><div class=\"sk-serial\"><div class=\"sk-item\"><div class=\"sk-estimator sk-toggleable\"><input class=\"sk-toggleable__control sk-hidden--visually\" id=\"sk-estimator-id-12\" type=\"checkbox\" ><label for=\"sk-estimator-id-12\" class=\"sk-toggleable__label sk-toggleable__label-arrow\">KNeighborsRegressor</label><div class=\"sk-toggleable__content\"><pre>KNeighborsRegressor(n_jobs=-1)</pre></div></div></div></div></div></div></div></div></div></div>"
      ],
      "text/plain": [
       "GridSearchCV(cv=9, estimator=KNeighborsRegressor(n_jobs=-1), n_jobs=-1,\n",
       "             param_grid={'algorithm': ['auto', 'ball_tree', 'kd_tree', 'brute'],\n",
       "                         'leaf_size': [20, 30, 40, 50, 60, 70],\n",
       "                         'n_neighbors': [2, 3], 'p': [1, 2],\n",
       "                         'weights': ['uniform', 'distance']},\n",
       "             scoring='neg_mean_absolute_error', verbose=1)"
      ]
     },
     "execution_count": 32,
     "metadata": {},
     "output_type": "execute_result"
    }
   ],
   "source": [
    "estimator = knn(n_jobs=-1)\n",
    "param_grid = {'algorithm':  ['auto', 'ball_tree', 'kd_tree', 'brute'],\n",
    " 'weights': ['uniform', 'distance'],\n",
    " 'n_neighbors': [2, 3],\n",
    " 'leaf_size': [20,30,40,50, 60,70],\n",
    "    'p': [1,2]}\n",
    "\n",
    "grid_search = GridSearchCV(estimator, param_grid,cv=9, scoring='neg_mean_absolute_error', verbose=1, n_jobs=-1)\n",
    "%time grid_search.fit(X, y)"
   ]
  },
  {
   "cell_type": "code",
   "execution_count": 33,
   "id": "05e28e58-bcd5-4da8-9fe4-d83054f19abe",
   "metadata": {
    "tags": []
   },
   "outputs": [
    {
     "name": "stdout",
     "output_type": "stream",
     "text": [
      "Best params : {'algorithm': 'auto', 'leaf_size': 20, 'n_neighbors': 3, 'p': 1, 'weights': 'distance'}\n",
      "Best MAE 0.205\n"
     ]
    }
   ],
   "source": [
    "print(\"Best params :\", grid_search.best_params_)\n",
    "print(\"Best MAE %.3f\"% -grid_search.best_score_)"
   ]
  },
  {
   "cell_type": "code",
   "execution_count": 34,
   "id": "666e4b38-2edf-40a1-bbc3-eaae2d85df0e",
   "metadata": {
    "tags": []
   },
   "outputs": [
    {
     "name": "stdout",
     "output_type": "stream",
     "text": [
      "R2 on train: 0.998 \n",
      "\n",
      "MAE on train: 416,845\n",
      "MAE on test: 9,969,692\n",
      "MAPE on train: 0.006 \n",
      "MAPE on test: 0.217 \n"
     ]
    }
   ],
   "source": [
    "knn = knn(n_jobs=-1, **grid_search.best_params_).fit(X, y)\n",
    "\n",
    "y_fitted = np.exp(knn.predict(X))\n",
    "y_predicted = np.exp(knn.predict(X_test))\n",
    "\n",
    "print('R2 on train: %.3f'%knn.score(X, y), '\\n')\n",
    "\n",
    "print('MAE on train: {:,.0f}'.format(mae(np.exp(y), y_fitted)))\n",
    "print('MAE on test: {:,.0f}'.format(mae(y_test, y_predicted), '\\n'))\n",
    "\n",
    "print('MAPE on train: %.3f '% mape(np.exp(y), y_fitted))\n",
    "print('MAPE on test: %.3f '% mape(y_test, y_predicted))"
   ]
  },
  {
   "cell_type": "code",
   "execution_count": null,
   "id": "eaaae560-d55d-4c96-b789-42e737f0a3bd",
   "metadata": {},
   "outputs": [],
   "source": []
  }
 ],
 "metadata": {
  "kernelspec": {
   "display_name": "Python 3 (ipykernel)",
   "language": "python",
   "name": "python3"
  },
  "language_info": {
   "codemirror_mode": {
    "name": "ipython",
    "version": 3
   },
   "file_extension": ".py",
   "mimetype": "text/x-python",
   "name": "python",
   "nbconvert_exporter": "python",
   "pygments_lexer": "ipython3",
   "version": "3.10.9"
  }
 },
 "nbformat": 4,
 "nbformat_minor": 5
}
