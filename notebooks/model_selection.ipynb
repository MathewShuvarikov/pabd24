{
 "cells": [
  {
   "cell_type": "code",
   "execution_count": 1,
   "id": "710eb4dd-fec2-4026-ac0e-d35aa008659d",
   "metadata": {},
   "outputs": [
    {
     "name": "stderr",
     "output_type": "stream",
     "text": [
      "C:\\Users\\shuva\\anaconda3\\lib\\site-packages\\dask\\dataframe\\_pyarrow_compat.py:17: FutureWarning: Minimal version of pyarrow will soon be increased to 14.0.1. You are using 13.0.0. Please consider upgrading.\n",
      "  warnings.warn(\n"
     ]
    }
   ],
   "source": [
    "import argparse\n",
    "import logging\n",
    "import pandas as pd\n",
    "from sklearn.ensemble import RandomForestRegressor\n",
    "from sklearn.metrics import r2_score, mean_absolute_error as mae, mean_absolute_percentage_error as mape, make_scorer\n",
    "from sklearn.model_selection import cross_val_score\n",
    "from joblib import dump\n",
    "import numpy as np\n",
    "\n",
    "from sklearn.pipeline import Pipeline\n",
    "from sklearn.preprocessing import MinMaxScaler, StandardScaler, RobustScaler\n",
    "from sklearn.decomposition import PCA\n",
    "from sklearn.linear_model import LinearRegression, Ridge, Lasso, HuberRegressor\n",
    "from sklearn.model_selection import GridSearchCV\n",
    "from sklearn.metrics import mean_absolute_error as mae, mean_absolute_percentage_error as mape\n",
    "\n",
    "from lightgbm import LGBMRegressor\n",
    "import optuna\n",
    "\n",
    "import warnings\n",
    "warnings.filterwarnings('ignore')"
   ]
  },
  {
   "cell_type": "code",
   "execution_count": 2,
   "id": "8af193db-e565-47ea-98f0-e652b86d7df8",
   "metadata": {
    "tags": []
   },
   "outputs": [
    {
     "data": {
      "text/html": [
       "<div>\n",
       "<style scoped>\n",
       "    .dataframe tbody tr th:only-of-type {\n",
       "        vertical-align: middle;\n",
       "    }\n",
       "\n",
       "    .dataframe tbody tr th {\n",
       "        vertical-align: top;\n",
       "    }\n",
       "\n",
       "    .dataframe thead th {\n",
       "        text-align: right;\n",
       "    }\n",
       "</style>\n",
       "<table border=\"1\" class=\"dataframe\">\n",
       "  <thead>\n",
       "    <tr style=\"text-align: right;\">\n",
       "      <th></th>\n",
       "      <th>floor</th>\n",
       "      <th>floors_count</th>\n",
       "      <th>rooms_count</th>\n",
       "      <th>total_meters</th>\n",
       "      <th>price</th>\n",
       "      <th>top_bottom_floor</th>\n",
       "      <th>county_short_ВАО</th>\n",
       "      <th>county_short_ЗАО</th>\n",
       "      <th>county_short_ЗелАО</th>\n",
       "      <th>county_short_САО</th>\n",
       "      <th>county_short_СВАО</th>\n",
       "      <th>county_short_СЗАО</th>\n",
       "      <th>county_short_ТАО</th>\n",
       "      <th>county_short_ЦАО</th>\n",
       "      <th>county_short_ЮАО</th>\n",
       "      <th>county_short_ЮВАО</th>\n",
       "      <th>county_short_ЮЗАО</th>\n",
       "      <th>object_type_secondary</th>\n",
       "    </tr>\n",
       "  </thead>\n",
       "  <tbody>\n",
       "    <tr>\n",
       "      <th>0</th>\n",
       "      <td>19</td>\n",
       "      <td>24</td>\n",
       "      <td>2</td>\n",
       "      <td>70.0</td>\n",
       "      <td>42000000.0</td>\n",
       "      <td>0</td>\n",
       "      <td>0</td>\n",
       "      <td>0</td>\n",
       "      <td>0</td>\n",
       "      <td>1</td>\n",
       "      <td>0</td>\n",
       "      <td>0</td>\n",
       "      <td>0</td>\n",
       "      <td>0</td>\n",
       "      <td>0</td>\n",
       "      <td>0</td>\n",
       "      <td>0</td>\n",
       "      <td>1</td>\n",
       "    </tr>\n",
       "    <tr>\n",
       "      <th>1</th>\n",
       "      <td>3</td>\n",
       "      <td>14</td>\n",
       "      <td>3</td>\n",
       "      <td>68.7</td>\n",
       "      <td>38500000.0</td>\n",
       "      <td>0</td>\n",
       "      <td>0</td>\n",
       "      <td>1</td>\n",
       "      <td>0</td>\n",
       "      <td>0</td>\n",
       "      <td>0</td>\n",
       "      <td>0</td>\n",
       "      <td>0</td>\n",
       "      <td>0</td>\n",
       "      <td>0</td>\n",
       "      <td>0</td>\n",
       "      <td>0</td>\n",
       "      <td>1</td>\n",
       "    </tr>\n",
       "    <tr>\n",
       "      <th>2</th>\n",
       "      <td>13</td>\n",
       "      <td>44</td>\n",
       "      <td>1</td>\n",
       "      <td>34.3</td>\n",
       "      <td>16600000.0</td>\n",
       "      <td>0</td>\n",
       "      <td>0</td>\n",
       "      <td>0</td>\n",
       "      <td>0</td>\n",
       "      <td>0</td>\n",
       "      <td>0</td>\n",
       "      <td>1</td>\n",
       "      <td>0</td>\n",
       "      <td>0</td>\n",
       "      <td>0</td>\n",
       "      <td>0</td>\n",
       "      <td>0</td>\n",
       "      <td>0</td>\n",
       "    </tr>\n",
       "    <tr>\n",
       "      <th>3</th>\n",
       "      <td>6</td>\n",
       "      <td>17</td>\n",
       "      <td>3</td>\n",
       "      <td>72.0</td>\n",
       "      <td>18900000.0</td>\n",
       "      <td>0</td>\n",
       "      <td>0</td>\n",
       "      <td>0</td>\n",
       "      <td>0</td>\n",
       "      <td>0</td>\n",
       "      <td>1</td>\n",
       "      <td>0</td>\n",
       "      <td>0</td>\n",
       "      <td>0</td>\n",
       "      <td>0</td>\n",
       "      <td>0</td>\n",
       "      <td>0</td>\n",
       "      <td>1</td>\n",
       "    </tr>\n",
       "    <tr>\n",
       "      <th>4</th>\n",
       "      <td>3</td>\n",
       "      <td>5</td>\n",
       "      <td>1</td>\n",
       "      <td>20.3</td>\n",
       "      <td>5999999.0</td>\n",
       "      <td>0</td>\n",
       "      <td>0</td>\n",
       "      <td>0</td>\n",
       "      <td>0</td>\n",
       "      <td>0</td>\n",
       "      <td>1</td>\n",
       "      <td>0</td>\n",
       "      <td>0</td>\n",
       "      <td>0</td>\n",
       "      <td>0</td>\n",
       "      <td>0</td>\n",
       "      <td>0</td>\n",
       "      <td>1</td>\n",
       "    </tr>\n",
       "  </tbody>\n",
       "</table>\n",
       "</div>"
      ],
      "text/plain": [
       "   floor  floors_count  rooms_count  total_meters       price  \\\n",
       "0     19            24            2          70.0  42000000.0   \n",
       "1      3            14            3          68.7  38500000.0   \n",
       "2     13            44            1          34.3  16600000.0   \n",
       "3      6            17            3          72.0  18900000.0   \n",
       "4      3             5            1          20.3   5999999.0   \n",
       "\n",
       "   top_bottom_floor  county_short_ВАО  county_short_ЗАО  county_short_ЗелАО  \\\n",
       "0                 0                 0                 0                   0   \n",
       "1                 0                 0                 1                   0   \n",
       "2                 0                 0                 0                   0   \n",
       "3                 0                 0                 0                   0   \n",
       "4                 0                 0                 0                   0   \n",
       "\n",
       "   county_short_САО  county_short_СВАО  county_short_СЗАО  county_short_ТАО  \\\n",
       "0                 1                  0                  0                 0   \n",
       "1                 0                  0                  0                 0   \n",
       "2                 0                  0                  1                 0   \n",
       "3                 0                  1                  0                 0   \n",
       "4                 0                  1                  0                 0   \n",
       "\n",
       "   county_short_ЦАО  county_short_ЮАО  county_short_ЮВАО  county_short_ЮЗАО  \\\n",
       "0                 0                 0                  0                  0   \n",
       "1                 0                 0                  0                  0   \n",
       "2                 0                 0                  0                  0   \n",
       "3                 0                 0                  0                  0   \n",
       "4                 0                 0                  0                  0   \n",
       "\n",
       "   object_type_secondary  \n",
       "0                      1  \n",
       "1                      1  \n",
       "2                      0  \n",
       "3                      1  \n",
       "4                      1  "
      ]
     },
     "execution_count": 2,
     "metadata": {},
     "output_type": "execute_result"
    }
   ],
   "source": [
    "train = pd.read_csv('../data/proc/train.csv')\n",
    "test = pd.read_csv('../data/proc/val.csv')\n",
    "train.head()"
   ]
  },
  {
   "cell_type": "code",
   "execution_count": 3,
   "id": "b03d08b5-493a-4a92-ab4c-84f8f7ad5490",
   "metadata": {
    "tags": []
   },
   "outputs": [],
   "source": [
    "X = train.drop(columns='price')\n",
    "y = np.log(train.price)\n",
    "\n",
    "X_test = test.drop(columns='price')\n",
    "y_test = test.price"
   ]
  },
  {
   "cell_type": "markdown",
   "id": "76f8b281-8a3a-423f-80be-216ab706c0fa",
   "metadata": {},
   "source": [
    "# Классическая линейная регрессия с ln(y)"
   ]
  },
  {
   "cell_type": "code",
   "execution_count": 7,
   "id": "b61e5235-31a0-4be1-b3fa-9f1c5a0ceb7f",
   "metadata": {
    "tags": []
   },
   "outputs": [
    {
     "name": "stdout",
     "output_type": "stream",
     "text": [
      "R2 on train: 0.809 \n",
      "\n",
      "MAE on train: 15,585,627\n",
      "MAE on test: 16,443,532\n",
      "MAPE on train: 0.327 \n",
      "MAPE on test: 0.306 \n"
     ]
    }
   ],
   "source": [
    "lm = LinearRegression().fit(X, y)\n",
    "y_fitted = np.exp(lm.predict(X))\n",
    "y_predicted = np.exp(lm.predict(X_test))\n",
    "\n",
    "print('R2 on train: %.3f'%lm.score(X, y), '\\n')\n",
    "\n",
    "print('MAE on train: {:,.0f}'.format(mae(np.exp(y), y_fitted)))\n",
    "print('MAE on test: {:,.0f}'.format(mae(y_test, y_predicted), '\\n'))\n",
    "\n",
    "print('MAPE on train: %.3f '% mape(np.exp(y), y_fitted))\n",
    "print('MAPE on test: %.3f '% mape(y_test, y_predicted))"
   ]
  },
  {
   "cell_type": "markdown",
   "id": "e4fbc16b-3ba4-4b96-a660-24317930d78d",
   "metadata": {},
   "source": [
    "# Pipelines with Scaler, dimentionaly reduction and regularization"
   ]
  },
  {
   "cell_type": "code",
   "execution_count": 8,
   "id": "319b16bc-9c1a-446f-9553-5ae371f2dfef",
   "metadata": {
    "tags": []
   },
   "outputs": [
    {
     "name": "stdout",
     "output_type": "stream",
     "text": [
      "Fitting 5 folds for each of 270 candidates, totalling 1350 fits\n",
      "CPU times: total: 2.64 s\n",
      "Wall time: 16.8 s\n",
      "Best params : {'pca': PCA(n_components=3), 'pca__n_components': 3, 'regressor': Ridge(alpha=0.01), 'regressor__alpha': 0.01, 'scaler': StandardScaler()}\n",
      "Best R2 0.759\n"
     ]
    }
   ],
   "source": [
    "# Pipeline with dimentionality reduction, target metric - R-square\n",
    "\n",
    "pipeline = Pipeline([\n",
    "('scaler', StandardScaler()),\n",
    "('pca', PCA()),\n",
    "('regressor', Lasso())\n",
    "])\n",
    "\n",
    "param_grid = {'scaler': [StandardScaler(), MinMaxScaler(), RobustScaler()],\n",
    "    'pca': [PCA()],         \n",
    "    'pca__n_components': range(1, 6),\n",
    "    'regressor': [Lasso(), Ridge(), HuberRegressor()],\n",
    "    'regressor__alpha': [0, 0.01, 0.1, 1.0, 10, 100]\n",
    "}\n",
    "\n",
    "grid_search = GridSearchCV(pipeline, param_grid, cv=5, scoring='r2', verbose=1, n_jobs=10)\n",
    "%time grid_search.fit(X, y)\n",
    "\n",
    "print(\"Best params :\", grid_search.best_params_)\n",
    "print(\"Best R2 %.3f\"% grid_search.best_score_)"
   ]
  },
  {
   "cell_type": "code",
   "execution_count": 9,
   "id": "986af1d7-66a0-4d99-8ca1-71eb6b95dbf8",
   "metadata": {
    "tags": []
   },
   "outputs": [
    {
     "name": "stdout",
     "output_type": "stream",
     "text": [
      "Fitting 5 folds for each of 270 candidates, totalling 1350 fits\n",
      "CPU times: total: 4.75 s\n",
      "Wall time: 20.7 s\n",
      "Best params : {'pca': PCA(n_components=5), 'pca__n_components': 5, 'regressor': HuberRegressor(alpha=0.01), 'regressor__alpha': 0.01, 'scaler': RobustScaler()}\n",
      "Best MAE 0.334\n"
     ]
    }
   ],
   "source": [
    "# Pipeline with dimentionality reduction, target metric - MAE\n",
    "\n",
    "pipeline = Pipeline([\n",
    "('scaler', StandardScaler()),\n",
    "('pca', PCA()),\n",
    "('regressor', Lasso())\n",
    "])\n",
    "\n",
    "param_grid = {'scaler': [StandardScaler(), MinMaxScaler(), RobustScaler()],\n",
    "    'pca': [PCA()],         \n",
    "    'pca__n_components': range(1, 6),\n",
    "    'regressor': [Lasso(), Ridge(), HuberRegressor()],\n",
    "    'regressor__alpha': [0, 0.01, 0.1, 1.0, 10, 100]\n",
    "}\n",
    "\n",
    "grid_search = GridSearchCV(pipeline, param_grid, cv=5, scoring='neg_mean_absolute_error', verbose=1, n_jobs=10)\n",
    "%time grid_search.fit(X, y)\n",
    "\n",
    "print(\"Best params :\", grid_search.best_params_)\n",
    "print(\"Best MAE %.3f\"% -grid_search.best_score_)"
   ]
  },
  {
   "cell_type": "code",
   "execution_count": 10,
   "id": "5df3474b-f067-4862-bac9-a63d4513eec6",
   "metadata": {
    "tags": []
   },
   "outputs": [
    {
     "name": "stdout",
     "output_type": "stream",
     "text": [
      "Fitting 5 folds for each of 270 candidates, totalling 1350 fits\n",
      "CPU times: total: 5.33 s\n",
      "Wall time: 20.5 s\n",
      "Best params : {'pca': PCA(n_components=5), 'pca__n_components': 5, 'regressor': HuberRegressor(alpha=0.01), 'regressor__alpha': 0.01, 'scaler': RobustScaler()}\n",
      "Best MAPE 0.019\n"
     ]
    }
   ],
   "source": [
    "# Pipeline with dimentionality reduction, target metric - MAE\n",
    "\n",
    "pipeline = Pipeline([\n",
    "('scaler', StandardScaler()),\n",
    "('pca', PCA()),\n",
    "('regressor', Lasso())\n",
    "])\n",
    "\n",
    "param_grid = {'scaler': [StandardScaler(), MinMaxScaler(), RobustScaler()],\n",
    "    'pca': [PCA()],         \n",
    "    'pca__n_components': range(1, 6),\n",
    "    'regressor': [Lasso(), Ridge(), HuberRegressor()],\n",
    "    'regressor__alpha': [0, 0.01, 0.1, 1.0, 10, 100]\n",
    "}\n",
    "\n",
    "grid_search = GridSearchCV(pipeline, param_grid, cv=5, scoring='neg_mean_absolute_percentage_error', verbose=1, n_jobs=10)\n",
    "%time grid_search.fit(X, y)\n",
    "\n",
    "print(\"Best params :\", grid_search.best_params_)\n",
    "print(\"Best MAPE %.3f\"% -grid_search.best_score_)"
   ]
  },
  {
   "cell_type": "code",
   "execution_count": 12,
   "id": "a51e7b23-a809-4ee1-9fe1-9c71f2fb8489",
   "metadata": {
    "tags": []
   },
   "outputs": [
    {
     "name": "stdout",
     "output_type": "stream",
     "text": [
      "Pipeline R-square: 0.749\n",
      "Pipeline MAE: 20,417,572\n",
      "MAE on train: 15,585,627\n",
      "Pipeline MAPE: 0.3793\n"
     ]
    }
   ],
   "source": [
    "pipeline = Pipeline([\n",
    "('scaler', grid_search.best_params_['scaler']),\n",
    "('pca', grid_search.best_params_['pca']),\n",
    "('regressor', grid_search.best_params_['regressor'])\n",
    "])\n",
    "\n",
    "pipeline.fit(X, y)\n",
    "print('Pipeline R-square: %.3f'%pipeline.score(X, y))\n",
    "fitted = pipeline.predict(X)\n",
    "print('Pipeline MAE: {:,.0f}'.format(mae(np.exp(y), np.exp(fitted))))\n",
    "print('MAE on train: {:,.0f}'.format(mae(np.exp(y), y_fitted)))\n",
    "print('Pipeline MAPE: %.4f'%mape(np.exp(y), np.exp(fitted)))"
   ]
  },
  {
   "cell_type": "code",
   "execution_count": 13,
   "id": "14d606f5-d503-46b2-a661-a0a5354c5a3a",
   "metadata": {
    "tags": []
   },
   "outputs": [
    {
     "name": "stdout",
     "output_type": "stream",
     "text": [
      "Pipeline test MAE: 20,092,720\n",
      "Pipeline test MAPE: 0.3552\n"
     ]
    }
   ],
   "source": [
    "predicted = pipeline.predict(X_test)\n",
    "print('Pipeline test MAE: {:,.0f}'.format(mae(y_test, np.exp(predicted))))\n",
    "print('Pipeline test MAPE: %.4f'%mape(y_test, np.exp(predicted)))"
   ]
  },
  {
   "cell_type": "markdown",
   "id": "9fde5c04-d187-4e06-80fb-a4bcc9bfd5ea",
   "metadata": {},
   "source": [
    "# Pipelines with Scaler and Regularization"
   ]
  },
  {
   "cell_type": "code",
   "execution_count": 14,
   "id": "606dde8e-7236-442d-8969-cef56f38b12d",
   "metadata": {
    "tags": []
   },
   "outputs": [
    {
     "name": "stdout",
     "output_type": "stream",
     "text": [
      "Fitting 5 folds for each of 54 candidates, totalling 270 fits\n",
      "CPU times: total: 859 ms\n",
      "Wall time: 5.6 s\n",
      "Best params : {'regressor': Ridge(alpha=10), 'regressor__alpha': 10, 'scaler': StandardScaler()}\n",
      "Best R2 0.808\n"
     ]
    }
   ],
   "source": [
    "# Pipeline with dimentionality reduction, target metric - R-square\n",
    "\n",
    "pipeline = Pipeline([\n",
    "('scaler', StandardScaler()),\n",
    "('regressor', Lasso())\n",
    "])\n",
    "\n",
    "param_grid = {'scaler': [StandardScaler(), MinMaxScaler(), RobustScaler()],\n",
    "    'regressor': [Lasso(), Ridge(), HuberRegressor()],\n",
    "    'regressor__alpha': [0, 0.01, 0.1, 1.0, 10, 100]\n",
    "}\n",
    "\n",
    "grid_search = GridSearchCV(pipeline, param_grid, cv=5, scoring='r2', verbose=1, n_jobs=10)\n",
    "%time grid_search.fit(X, y)\n",
    "\n",
    "print(\"Best params :\", grid_search.best_params_)\n",
    "print(\"Best R2 %.3f\"% grid_search.best_score_)"
   ]
  },
  {
   "cell_type": "code",
   "execution_count": 15,
   "id": "bd895d4a-7664-4bfd-badc-f2f61a2ae13c",
   "metadata": {
    "tags": []
   },
   "outputs": [
    {
     "name": "stdout",
     "output_type": "stream",
     "text": [
      "Fitting 5 folds for each of 54 candidates, totalling 270 fits\n",
      "CPU times: total: 797 ms\n",
      "Wall time: 5.88 s\n",
      "Best params : {'regressor': HuberRegressor(alpha=1.0), 'regressor__alpha': 1.0, 'scaler': RobustScaler()}\n",
      "Best MAE 0.300\n"
     ]
    }
   ],
   "source": [
    "# Pipeline with dimentionality reduction, target metric - MAE\n",
    "\n",
    "pipeline = Pipeline([\n",
    "('scaler', StandardScaler()),\n",
    "('regressor', Lasso())\n",
    "])\n",
    "\n",
    "param_grid = {'scaler': [StandardScaler(), MinMaxScaler(), RobustScaler()],\n",
    "    'regressor': [Lasso(), Ridge(), HuberRegressor()],\n",
    "    'regressor__alpha': [0, 0.01, 0.1, 1.0, 10, 100]\n",
    "}\n",
    "\n",
    "grid_search = GridSearchCV(pipeline, param_grid, cv=5, scoring='neg_mean_absolute_error', verbose=1, n_jobs=10)\n",
    "%time grid_search.fit(X, y)\n",
    "\n",
    "print(\"Best params :\", grid_search.best_params_)\n",
    "print(\"Best MAE %.3f\"% -grid_search.best_score_)"
   ]
  },
  {
   "cell_type": "code",
   "execution_count": 16,
   "id": "2e935dcb-5b24-4692-8961-5cac378186d0",
   "metadata": {
    "tags": []
   },
   "outputs": [
    {
     "name": "stdout",
     "output_type": "stream",
     "text": [
      "Fitting 5 folds for each of 54 candidates, totalling 270 fits\n",
      "CPU times: total: 828 ms\n",
      "Wall time: 6.01 s\n",
      "Best params : {'regressor': HuberRegressor(alpha=1.0), 'regressor__alpha': 1.0, 'scaler': RobustScaler()}\n",
      "Best MAPE 0.017\n"
     ]
    }
   ],
   "source": [
    "# Pipeline with dimentionality reduction, target metric - MAE\n",
    "\n",
    "pipeline = Pipeline([\n",
    "('scaler', StandardScaler()),\n",
    "('regressor', Lasso())\n",
    "])\n",
    "\n",
    "param_grid = {'scaler': [StandardScaler(), MinMaxScaler(), RobustScaler()],\n",
    "    'regressor': [Lasso(), Ridge(), HuberRegressor()],\n",
    "    'regressor__alpha': [0, 0.01, 0.1, 1.0, 10, 100]\n",
    "}\n",
    "\n",
    "grid_search = GridSearchCV(pipeline, param_grid, cv=5, scoring='neg_mean_absolute_percentage_error', verbose=1, n_jobs=10)\n",
    "%time grid_search.fit(X, y)\n",
    "\n",
    "print(\"Best params :\", grid_search.best_params_)\n",
    "print(\"Best MAPE %.3f\"% -grid_search.best_score_)"
   ]
  },
  {
   "cell_type": "code",
   "execution_count": 17,
   "id": "f1d99c28-b309-44e3-a168-b6f2d27cc91a",
   "metadata": {
    "tags": []
   },
   "outputs": [
    {
     "name": "stdout",
     "output_type": "stream",
     "text": [
      "Pipeline R-square: 0.804\n",
      "Pipeline MAE 16,798,705\n",
      "Pipeline MAPE: 0.3339\n"
     ]
    }
   ],
   "source": [
    "pipeline = Pipeline([\n",
    "('scaler', grid_search.best_params_['scaler']),\n",
    "('regressor', grid_search.best_params_['regressor'])\n",
    "])\n",
    "\n",
    "pipeline.fit(X, y)\n",
    "print('Pipeline R-square: %.3f'%pipeline.score(X, y))\n",
    "fitted = pipeline.predict(X)\n",
    "print('Pipeline MAE {:,.0f}'.format(mae(np.exp(y), np.exp(fitted))))\n",
    "print('Pipeline MAPE: %.4f'%mape(np.exp(y), np.exp(fitted)))"
   ]
  },
  {
   "cell_type": "code",
   "execution_count": 18,
   "id": "74425a73-cca1-4314-929b-153a37f3faa3",
   "metadata": {
    "tags": []
   },
   "outputs": [
    {
     "name": "stdout",
     "output_type": "stream",
     "text": [
      "Pipeline test MAE: 16,925,166\n",
      "Pipeline test MAPE: 0.3100\n"
     ]
    }
   ],
   "source": [
    "predicted = pipeline.predict(X_test)\n",
    "print('Pipeline test MAE: {:,.0f}'.format(mae(y_test, np.exp(predicted))))\n",
    "print('Pipeline test MAPE: %.4f'%mape(y_test, np.exp(predicted)))"
   ]
  },
  {
   "cell_type": "markdown",
   "id": "e9cb0dfe-e951-4511-8277-4a7ebf7050c8",
   "metadata": {},
   "source": [
    "# Random Forest"
   ]
  },
  {
   "cell_type": "code",
   "execution_count": 19,
   "id": "a91ee442-8444-419a-9f74-f304496b286f",
   "metadata": {
    "tags": []
   },
   "outputs": [
    {
     "name": "stdout",
     "output_type": "stream",
     "text": [
      "R2 on train: 0.986 \n",
      "\n",
      "MAE on train: 3,785,488\n",
      "MAE on test: 10,131,021\n",
      "MAPE on train: 0.075 \n",
      "MAPE on test: 0.201 \n"
     ]
    }
   ],
   "source": [
    "rf = RandomForestRegressor(random_state=0).fit(X, y)\n",
    "y_fitted = np.exp(rf.predict(X))\n",
    "y_predicted = np.exp(rf.predict(X_test))\n",
    "\n",
    "print('R2 on train: %.3f'%rf.score(X, y), '\\n')\n",
    "\n",
    "print('MAE on train: {:,.0f}'.format( mae(np.exp(y), y_fitted)))\n",
    "print('MAE on test: {:,.0f}'.format(mae(y_test, y_predicted), '\\n'))\n",
    "\n",
    "print('MAPE on train: %.3f '% mape(np.exp(y), y_fitted))\n",
    "print('MAPE on test: %.3f '% mape(y_test, y_predicted))"
   ]
  },
  {
   "cell_type": "code",
   "execution_count": 20,
   "id": "cfa833a5-6050-4e00-91e2-a6a9fa1c9e8a",
   "metadata": {
    "tags": []
   },
   "outputs": [
    {
     "name": "stdout",
     "output_type": "stream",
     "text": [
      "Fitting 5 folds for each of 54 candidates, totalling 270 fits\n",
      "CPU times: total: 3.56 s\n",
      "Wall time: 1min 26s\n",
      "Best params : {'max_depth': 9, 'max_features': 'auto', 'min_samples_leaf': 1, 'min_samples_split': 2}\n",
      "Best MAE 0.231\n"
     ]
    }
   ],
   "source": [
    "estimator = RandomForestRegressor(random_state=0, n_jobs=-1)\n",
    "param_grid = {'max_depth':  range(7, 10),\n",
    " 'max_features': ['auto', 'sqrt'],\n",
    " 'min_samples_leaf': [1, 2, 4],\n",
    " 'min_samples_split': [2, 5, 10]}\n",
    "\n",
    "grid_search = GridSearchCV(estimator, param_grid,cv=5, scoring='neg_mean_absolute_error', verbose=1, n_jobs=10)\n",
    "%time grid_search.fit(X, y)\n",
    "\n",
    "print(\"Best params :\", grid_search.best_params_)\n",
    "print(\"Best MAE %.3f\"% -grid_search.best_score_)"
   ]
  },
  {
   "cell_type": "code",
   "execution_count": 21,
   "id": "0b31c491-89ec-4264-abdb-158605a3c95b",
   "metadata": {
    "tags": []
   },
   "outputs": [
    {
     "name": "stdout",
     "output_type": "stream",
     "text": [
      "R2 on train: 0.923 \n",
      "\n",
      "MAE on train: 8,759,078\n",
      "MAE on test: 12,001,613\n",
      "MAPE on train: 0.199 \n",
      "MAPE on test: 0.229 \n"
     ]
    }
   ],
   "source": [
    "rf = RandomForestRegressor(random_state=0, n_jobs=-1, **grid_search.best_params_).fit(X, y)\n",
    "\n",
    "y_fitted = np.exp(rf.predict(X))\n",
    "y_predicted = np.exp(rf.predict(X_test))\n",
    "\n",
    "print('R2 on train: %.3f'%rf.score(X, y), '\\n')\n",
    "\n",
    "print('MAE on train: {:,.0f}'.format(mae(np.exp(y), y_fitted)))\n",
    "print('MAE on test: {:,.0f}'.format(mae(y_test, y_predicted), '\\n'))\n",
    "\n",
    "print('MAPE on train: %.3f '% mape(np.exp(y), y_fitted))\n",
    "print('MAPE on test: %.3f '% mape(y_test, y_predicted))"
   ]
  },
  {
   "cell_type": "markdown",
   "id": "89f21305-2fb1-4cb4-8b51-ed0fe7703d68",
   "metadata": {},
   "source": [
    "# LGBM"
   ]
  },
  {
   "cell_type": "code",
   "execution_count": 22,
   "id": "30605df7-7597-4e85-8bc3-288ba2d4766e",
   "metadata": {
    "tags": []
   },
   "outputs": [
    {
     "name": "stderr",
     "output_type": "stream",
     "text": [
      "  File \"C:\\Users\\shuva\\anaconda3\\lib\\site-packages\\joblib\\externals\\loky\\backend\\context.py\", line 245, in _count_physical_cores\n",
      "    raise ValueError(\n"
     ]
    },
    {
     "name": "stdout",
     "output_type": "stream",
     "text": [
      "[LightGBM] [Info] Total Bins 424\n",
      "[LightGBM] [Info] Number of data points in the train set: 6780, number of used features: 16\n",
      "[LightGBM] [Info] Start training from score 17.102996\n",
      "R2 on train: 0.923 \n",
      "\n",
      "MAE on train: 9,468,360\n",
      "MAE on test: 11,463,176\n",
      "MAPE on train: 0.197 \n",
      "MAPE on test: 0.219 \n"
     ]
    }
   ],
   "source": [
    "lgbm = LGBMRegressor(random_state=0, force_row_wise=True).fit(X, y)\n",
    "y_fitted = np.exp(lgbm.predict(X))\n",
    "y_predicted = np.exp(lgbm.predict(X_test))\n",
    "\n",
    "print('R2 on train: %.3f'%lgbm.score(X, y), '\\n')\n",
    "\n",
    "print('MAE on train: {:,.0f}'.format(mae(np.exp(y), y_fitted)))\n",
    "print('MAE on test: {:,.0f}'.format(mae(y_test, y_predicted), '\\n'))\n",
    "\n",
    "print('MAPE on train: %.3f '% mape(np.exp(y), y_fitted))\n",
    "print('MAPE on test: %.3f '% mape(y_test, y_predicted))"
   ]
  },
  {
   "cell_type": "code",
   "execution_count": 5,
   "id": "e90e5e52-bb56-49ed-8f2a-23e4e53d9364",
   "metadata": {
    "tags": []
   },
   "outputs": [],
   "source": [
    "def objective(trial):\n",
    "    params = {\n",
    "        \"n_estimators\": trial.suggest_int(\"n_estimators\", 100, 300), \n",
    "        \"max_depth\": trial.suggest_int(\"max_depth\", 3, 12),\n",
    "        'learning_rate': trial.suggest_float('learning_rate', 0.05, 0.15), \n",
    "        'num_leaves': trial.suggest_int(\"num_leaves\", 20, 100),\n",
    "        'reg_alpha': trial.suggest_float('reg_alpha', 0.01, 100.0),\n",
    "        'reg_lambda': trial.suggest_float('reg_lambda', 0.01, 100.0)\n",
    "    }\n",
    "\n",
    "    model = LGBMRegressor(**params, random_state=0, n_jobs=-1, force_row_wise=True)\n",
    "    return cross_val_score(model, X, y, cv=5, scoring='neg_mean_absolute_error', n_jobs=-1).mean()"
   ]
  },
  {
   "cell_type": "code",
   "execution_count": 6,
   "id": "88eefac2-38b5-4316-9b01-45cb093fd565",
   "metadata": {
    "collapsed": true,
    "jupyter": {
     "outputs_hidden": true
    },
    "scrolled": true,
    "tags": []
   },
   "outputs": [
    {
     "name": "stderr",
     "output_type": "stream",
     "text": [
      "[I 2024-05-23 22:11:08,393] A new study created in memory with name: no-name-4d3e51ae-a232-40ff-8054-d34af1f14b42\n"
     ]
    },
    {
     "data": {
      "application/vnd.jupyter.widget-view+json": {
       "model_id": "653451fde3fd46c7b479c0598cccc9c7",
       "version_major": 2,
       "version_minor": 0
      },
      "text/plain": [
       "  0%|          | 0/50 [00:00<?, ?it/s]"
      ]
     },
     "metadata": {},
     "output_type": "display_data"
    },
    {
     "name": "stdout",
     "output_type": "stream",
     "text": [
      "[I 2024-05-23 22:11:12,912] Trial 5 finished with value: -0.2890180566012582 and parameters: {'n_estimators': 194, 'max_depth': 4, 'learning_rate': 0.14031861013286173, 'num_leaves': 87, 'reg_alpha': 82.58952076855365, 'reg_lambda': 75.06077793797382}. Best is trial 5 with value: -0.2890180566012582.\n",
      "[I 2024-05-23 22:11:12,952] Trial 7 finished with value: -0.2843014432630995 and parameters: {'n_estimators': 242, 'max_depth': 12, 'learning_rate': 0.1429547235533014, 'num_leaves': 31, 'reg_alpha': 74.10991137443285, 'reg_lambda': 46.73747771401997}. Best is trial 7 with value: -0.2843014432630995.\n",
      "[I 2024-05-23 22:11:13,356] Trial 3 finished with value: -0.28776479188278387 and parameters: {'n_estimators': 152, 'max_depth': 4, 'learning_rate': 0.11909600155782436, 'num_leaves': 31, 'reg_alpha': 79.5558971587826, 'reg_lambda': 39.84341523882324}. Best is trial 7 with value: -0.2843014432630995.\n",
      "[I 2024-05-23 22:11:13,836] Trial 1 finished with value: -0.24974025492738447 and parameters: {'n_estimators': 205, 'max_depth': 4, 'learning_rate': 0.07318938830813854, 'num_leaves': 40, 'reg_alpha': 10.767656790475534, 'reg_lambda': 67.70827245423138}. Best is trial 1 with value: -0.24974025492738447.\n",
      "[I 2024-05-23 22:11:13,881] Trial 4 finished with value: -0.24760002850621765 and parameters: {'n_estimators': 168, 'max_depth': 7, 'learning_rate': 0.05812526201579036, 'num_leaves': 79, 'reg_alpha': 8.12673465638988, 'reg_lambda': 89.22568793029906}. Best is trial 4 with value: -0.24760002850621765.\n",
      "[I 2024-05-23 22:11:14,100] Trial 6 finished with value: -0.28703670807674514 and parameters: {'n_estimators': 214, 'max_depth': 5, 'learning_rate': 0.14579395121646682, 'num_leaves': 60, 'reg_alpha': 79.84360721232537, 'reg_lambda': 97.48554715843765}. Best is trial 4 with value: -0.24760002850621765.\n",
      "[I 2024-05-23 22:11:14,238] Trial 2 finished with value: -0.24685539386990252 and parameters: {'n_estimators': 216, 'max_depth': 4, 'learning_rate': 0.07748198908258153, 'num_leaves': 56, 'reg_alpha': 8.297238467775546, 'reg_lambda': 61.127624720637556}. Best is trial 2 with value: -0.24685539386990252.\n",
      "[I 2024-05-23 22:11:14,268] Trial 8 finished with value: -0.28302059410006075 and parameters: {'n_estimators': 102, 'max_depth': 11, 'learning_rate': 0.09314061153185416, 'num_leaves': 90, 'reg_alpha': 70.52643386893907, 'reg_lambda': 94.56582937263099}. Best is trial 2 with value: -0.24685539386990252.\n",
      "[I 2024-05-23 22:11:14,299] Trial 0 finished with value: -0.25230306872159713 and parameters: {'n_estimators': 160, 'max_depth': 12, 'learning_rate': 0.06566641493425168, 'num_leaves': 92, 'reg_alpha': 13.65560485741904, 'reg_lambda': 92.95037179910489}. Best is trial 2 with value: -0.24685539386990252.\n",
      "[I 2024-05-23 22:11:14,758] Trial 9 finished with value: -0.2581282732539617 and parameters: {'n_estimators': 176, 'max_depth': 11, 'learning_rate': 0.07229445209517403, 'num_leaves': 90, 'reg_alpha': 20.63444169751693, 'reg_lambda': 65.99884516254359}. Best is trial 2 with value: -0.24685539386990252.\n",
      "[I 2024-05-23 22:11:14,835] Trial 10 finished with value: -0.2878214340601116 and parameters: {'n_estimators': 216, 'max_depth': 4, 'learning_rate': 0.1302361878674016, 'num_leaves': 20, 'reg_alpha': 78.53739429087602, 'reg_lambda': 78.47432870662851}. Best is trial 2 with value: -0.24685539386990252.\n",
      "[I 2024-05-23 22:11:15,149] Trial 11 finished with value: -0.2609148584281379 and parameters: {'n_estimators': 226, 'max_depth': 12, 'learning_rate': 0.10427408660164666, 'num_leaves': 48, 'reg_alpha': 23.63671747140286, 'reg_lambda': 88.5858357215689}. Best is trial 2 with value: -0.24685539386990252.\n",
      "[I 2024-05-23 22:11:15,360] Trial 12 finished with value: -0.2764780714354725 and parameters: {'n_estimators': 171, 'max_depth': 4, 'learning_rate': 0.06526921151910065, 'num_leaves': 24, 'reg_alpha': 52.297625370504285, 'reg_lambda': 20.2544661337043}. Best is trial 2 with value: -0.24685539386990252.\n",
      "[I 2024-05-23 22:11:15,656] Trial 13 finished with value: -0.2610893615211224 and parameters: {'n_estimators': 171, 'max_depth': 6, 'learning_rate': 0.0566699697900801, 'num_leaves': 80, 'reg_alpha': 24.063441344865677, 'reg_lambda': 47.25901508099463}. Best is trial 2 with value: -0.24685539386990252.\n",
      "[I 2024-05-23 22:11:15,958] Trial 15 finished with value: -0.2732701093425276 and parameters: {'n_estimators': 148, 'max_depth': 4, 'learning_rate': 0.08751400703901732, 'num_leaves': 54, 'reg_alpha': 44.59095588731032, 'reg_lambda': 42.28746904616619}. Best is trial 2 with value: -0.24685539386990252.\n",
      "[I 2024-05-23 22:11:16,014] Trial 14 finished with value: -0.26739255942225104 and parameters: {'n_estimators': 177, 'max_depth': 6, 'learning_rate': 0.07575943425254919, 'num_leaves': 71, 'reg_alpha': 35.104140910027546, 'reg_lambda': 83.52550289196586}. Best is trial 2 with value: -0.24685539386990252.\n",
      "[I 2024-05-23 22:11:16,199] Trial 16 finished with value: -0.28770422349968056 and parameters: {'n_estimators': 150, 'max_depth': 11, 'learning_rate': 0.06713890795376051, 'num_leaves': 70, 'reg_alpha': 82.55717653840581, 'reg_lambda': 14.650232612597685}. Best is trial 2 with value: -0.24685539386990252.\n",
      "[I 2024-05-23 22:11:16,567] Trial 17 finished with value: -0.2674737947959551 and parameters: {'n_estimators': 294, 'max_depth': 7, 'learning_rate': 0.09038743512341432, 'num_leaves': 55, 'reg_alpha': 35.417418708177856, 'reg_lambda': 9.51991775486541}. Best is trial 2 with value: -0.24685539386990252.\n",
      "[I 2024-05-23 22:11:16,949] Trial 18 finished with value: -0.26477912011604654 and parameters: {'n_estimators': 286, 'max_depth': 7, 'learning_rate': 0.053040750371255316, 'num_leaves': 68, 'reg_alpha': 32.01003947982747, 'reg_lambda': 19.414458493567246}. Best is trial 2 with value: -0.24685539386990252.\n",
      "[I 2024-05-23 22:11:18,151] Trial 20 finished with value: -0.24328198733428313 and parameters: {'n_estimators': 125, 'max_depth': 7, 'learning_rate': 0.05366035868422743, 'num_leaves': 74, 'reg_alpha': 2.5175143082632205, 'reg_lambda': 55.71891112366921}. Best is trial 20 with value: -0.24328198733428313.\n",
      "[I 2024-05-23 22:11:18,291] Trial 19 finished with value: -0.22602562533633744 and parameters: {'n_estimators': 297, 'max_depth': 7, 'learning_rate': 0.05132372206555352, 'num_leaves': 72, 'reg_alpha': 0.9607506774578249, 'reg_lambda': 20.851418355289784}. Best is trial 19 with value: -0.22602562533633744.\n",
      "[I 2024-05-23 22:11:19,775] Trial 21 finished with value: -0.23179444032903565 and parameters: {'n_estimators': 289, 'max_depth': 8, 'learning_rate': 0.052628881831032724, 'num_leaves': 73, 'reg_alpha': 2.290594150232823, 'reg_lambda': 61.57302960919284}. Best is trial 19 with value: -0.22602562533633744.\n",
      "[I 2024-05-23 22:11:20,876] Trial 22 finished with value: -0.2293026233888032 and parameters: {'n_estimators': 286, 'max_depth': 8, 'learning_rate': 0.056757441682348045, 'num_leaves': 71, 'reg_alpha': 1.0801545660090746, 'reg_lambda': 61.32189445591215}. Best is trial 19 with value: -0.22602562533633744.\n",
      "[I 2024-05-23 22:11:21,197] Trial 23 finished with value: -0.2325198550035658 and parameters: {'n_estimators': 265, 'max_depth': 8, 'learning_rate': 0.05323137965317821, 'num_leaves': 70, 'reg_alpha': 2.097743375632902, 'reg_lambda': 59.9499263368193}. Best is trial 19 with value: -0.22602562533633744.\n",
      "[I 2024-05-23 22:11:22,598] Trial 24 finished with value: -0.23285755796839877 and parameters: {'n_estimators': 294, 'max_depth': 8, 'learning_rate': 0.05273578100447594, 'num_leaves': 72, 'reg_alpha': 2.853625296712293, 'reg_lambda': 60.04673102457366}. Best is trial 19 with value: -0.22602562533633744.\n",
      "[I 2024-05-23 22:11:23,613] Trial 25 finished with value: -0.23098654253843054 and parameters: {'n_estimators': 251, 'max_depth': 9, 'learning_rate': 0.054944332322937724, 'num_leaves': 73, 'reg_alpha': 1.6715136919677338, 'reg_lambda': 63.617958247644935}. Best is trial 19 with value: -0.22602562533633744.\n",
      "[I 2024-05-23 22:11:24,229] Trial 27 finished with value: -0.2426563792644938 and parameters: {'n_estimators': 116, 'max_depth': 8, 'learning_rate': 0.08023580891412499, 'num_leaves': 100, 'reg_alpha': 6.06828017207211, 'reg_lambda': 57.00329975221169}. Best is trial 19 with value: -0.22602562533633744.\n",
      "[I 2024-05-23 22:11:24,400] Trial 26 finished with value: -0.22929976878052621 and parameters: {'n_estimators': 258, 'max_depth': 9, 'learning_rate': 0.0515761738381582, 'num_leaves': 100, 'reg_alpha': 0.7678246442081686, 'reg_lambda': 60.68729087475702}. Best is trial 19 with value: -0.22602562533633744.\n",
      "[I 2024-05-23 22:11:26,027] Trial 28 finished with value: -0.22739190900136283 and parameters: {'n_estimators': 260, 'max_depth': 9, 'learning_rate': 0.051739551642892644, 'num_leaves': 62, 'reg_alpha': 0.23668056291054507, 'reg_lambda': 54.977369031018355}. Best is trial 19 with value: -0.22602562533633744.\n",
      "[I 2024-05-23 22:11:27,611] Trial 29 finished with value: -0.22866086159648194 and parameters: {'n_estimators': 268, 'max_depth': 9, 'learning_rate': 0.0525813956737485, 'num_leaves': 79, 'reg_alpha': 1.2445260661669293, 'reg_lambda': 54.91684869031797}. Best is trial 19 with value: -0.22602562533633744.\n",
      "[I 2024-05-23 22:11:28,134] Trial 30 finished with value: -0.23005422378066154 and parameters: {'n_estimators': 275, 'max_depth': 9, 'learning_rate': 0.051225147727418985, 'num_leaves': 99, 'reg_alpha': 2.0100137873287975, 'reg_lambda': 53.623432785765566}. Best is trial 19 with value: -0.22602562533633744.\n",
      "[I 2024-05-23 22:11:29,305] Trial 32 finished with value: -0.2525212116246163 and parameters: {'n_estimators': 269, 'max_depth': 9, 'learning_rate': 0.06081024060091159, 'num_leaves': 100, 'reg_alpha': 15.466147432880724, 'reg_lambda': 31.91122143589591}. Best is trial 19 with value: -0.22602562533633744.\n",
      "[I 2024-05-23 22:11:29,884] Trial 31 finished with value: -0.22416027885217224 and parameters: {'n_estimators': 269, 'max_depth': 9, 'learning_rate': 0.05096330723976655, 'num_leaves': 98, 'reg_alpha': 0.17995860538849384, 'reg_lambda': 30.29993490458629}. Best is trial 31 with value: -0.22416027885217224.\n",
      "[I 2024-05-23 22:11:30,230] Trial 33 finished with value: -0.251969200027392 and parameters: {'n_estimators': 263, 'max_depth': 9, 'learning_rate': 0.06092158549184762, 'num_leaves': 63, 'reg_alpha': 15.507160928956386, 'reg_lambda': 0.36332865995184704}. Best is trial 31 with value: -0.22416027885217224.\n",
      "[I 2024-05-23 22:11:30,642] Trial 34 finished with value: -0.2524259641306617 and parameters: {'n_estimators': 267, 'max_depth': 9, 'learning_rate': 0.06057110866447263, 'num_leaves': 62, 'reg_alpha': 15.970263015173133, 'reg_lambda': 0.29971412353408766}. Best is trial 31 with value: -0.22416027885217224.\n",
      "[I 2024-05-23 22:11:31,231] Trial 35 finished with value: -0.25184940683295143 and parameters: {'n_estimators': 272, 'max_depth': 9, 'learning_rate': 0.06174426855270632, 'num_leaves': 99, 'reg_alpha': 15.14027467116895, 'reg_lambda': 32.55111524439779}. Best is trial 31 with value: -0.22416027885217224.\n",
      "[I 2024-05-23 22:11:31,834] Trial 36 finished with value: -0.2476038393683097 and parameters: {'n_estimators': 271, 'max_depth': 10, 'learning_rate': 0.06405692817678645, 'num_leaves': 100, 'reg_alpha': 12.245288704002839, 'reg_lambda': 0.17014231022644566}. Best is trial 31 with value: -0.22416027885217224.\n",
      "[I 2024-05-23 22:11:32,208] Trial 37 finished with value: -0.2519564583554056 and parameters: {'n_estimators': 271, 'max_depth': 10, 'learning_rate': 0.06427903340182439, 'num_leaves': 63, 'reg_alpha': 15.322862579303461, 'reg_lambda': 29.748490480287515}. Best is trial 31 with value: -0.22416027885217224.\n",
      "[I 2024-05-23 22:11:32,742] Trial 38 finished with value: -0.2516430020642174 and parameters: {'n_estimators': 260, 'max_depth': 10, 'learning_rate': 0.06363057195079554, 'num_leaves': 64, 'reg_alpha': 14.72900967779265, 'reg_lambda': 33.68596212440122}. Best is trial 31 with value: -0.22416027885217224.\n",
      "[I 2024-05-23 22:11:33,303] Trial 39 finished with value: -0.25079522767267387 and parameters: {'n_estimators': 254, 'max_depth': 10, 'learning_rate': 0.06639416181338714, 'num_leaves': 83, 'reg_alpha': 13.563143786348686, 'reg_lambda': 69.96265453684872}. Best is trial 31 with value: -0.22416027885217224.\n",
      "[I 2024-05-23 22:11:33,762] Trial 40 finished with value: -0.24992481480228879 and parameters: {'n_estimators': 242, 'max_depth': 10, 'learning_rate': 0.065772560123215, 'num_leaves': 63, 'reg_alpha': 13.884114693346575, 'reg_lambda': 0.7387884481858649}. Best is trial 31 with value: -0.22416027885217224.\n",
      "[I 2024-05-23 22:11:34,372] Trial 41 finished with value: -0.2475673519983951 and parameters: {'n_estimators': 238, 'max_depth': 10, 'learning_rate': 0.06524938094642944, 'num_leaves': 81, 'reg_alpha': 11.485406959481601, 'reg_lambda': 32.412456404540826}. Best is trial 31 with value: -0.22416027885217224.\n",
      "[I 2024-05-23 22:11:34,962] Trial 42 finished with value: -0.24758792603460372 and parameters: {'n_estimators': 250, 'max_depth': 10, 'learning_rate': 0.06726383143864872, 'num_leaves': 83, 'reg_alpha': 11.395431875231893, 'reg_lambda': 33.677535793089326}. Best is trial 31 with value: -0.22416027885217224.\n",
      "[I 2024-05-23 22:11:35,657] Trial 43 finished with value: -0.24407903268915532 and parameters: {'n_estimators': 246, 'max_depth': 10, 'learning_rate': 0.0672770878695755, 'num_leaves': 80, 'reg_alpha': 9.4067562428494, 'reg_lambda': 50.951226164872146}. Best is trial 31 with value: -0.22416027885217224.\n",
      "[I 2024-05-23 22:11:36,394] Trial 44 finished with value: -0.24472230261094804 and parameters: {'n_estimators': 233, 'max_depth': 10, 'learning_rate': 0.07206598286604246, 'num_leaves': 83, 'reg_alpha': 9.450557801887344, 'reg_lambda': 70.4539949507101}. Best is trial 31 with value: -0.22416027885217224.\n",
      "[I 2024-05-23 22:11:36,931] Trial 45 finished with value: -0.24525542577460807 and parameters: {'n_estimators': 237, 'max_depth': 10, 'learning_rate': 0.06975018384259137, 'num_leaves': 83, 'reg_alpha': 10.128343438634314, 'reg_lambda': 38.24113017358674}. Best is trial 31 with value: -0.22416027885217224.\n",
      "[I 2024-05-23 22:11:37,291] Trial 46 finished with value: -0.24492162572262047 and parameters: {'n_estimators': 237, 'max_depth': 6, 'learning_rate': 0.06765383993548085, 'num_leaves': 83, 'reg_alpha': 8.814208731524067, 'reg_lambda': 70.09556020283685}. Best is trial 31 with value: -0.22416027885217224.\n",
      "[I 2024-05-23 22:11:38,060] Trial 47 finished with value: -0.242226529163442 and parameters: {'n_estimators': 238, 'max_depth': 6, 'learning_rate': 0.07004712279857665, 'num_leaves': 85, 'reg_alpha': 7.453875379745107, 'reg_lambda': 51.7276392129996}. Best is trial 31 with value: -0.22416027885217224.\n",
      "[I 2024-05-23 22:11:38,630] Trial 48 finished with value: -0.24417306093477698 and parameters: {'n_estimators': 300, 'max_depth': 6, 'learning_rate': 0.05056630849706257, 'num_leaves': 95, 'reg_alpha': 8.453484139179206, 'reg_lambda': 50.97718031690932}. Best is trial 31 with value: -0.22416027885217224.\n",
      "[I 2024-05-23 22:11:39,008] Trial 49 finished with value: -0.2422682836943844 and parameters: {'n_estimators': 300, 'max_depth': 6, 'learning_rate': 0.07036910387573946, 'num_leaves': 86, 'reg_alpha': 7.60407960828244, 'reg_lambda': 51.87349723467907}. Best is trial 31 with value: -0.22416027885217224.\n"
     ]
    }
   ],
   "source": [
    "study = optuna.create_study(direction='maximize')\n",
    "study.optimize(objective, n_trials=50, show_progress_bar=True, n_jobs=-1)"
   ]
  },
  {
   "cell_type": "code",
   "execution_count": 7,
   "id": "d886c3c7-9753-4c77-83f1-3f0374389593",
   "metadata": {
    "tags": []
   },
   "outputs": [
    {
     "name": "stdout",
     "output_type": "stream",
     "text": [
      "Best hyperparameters: {'n_estimators': 269, 'max_depth': 9, 'learning_rate': 0.05096330723976655, 'num_leaves': 98, 'reg_alpha': 0.17995860538849384, 'reg_lambda': 30.29993490458629}\n",
      "Best MAE: 0\n"
     ]
    }
   ],
   "source": [
    "print('Best hyperparameters:', study.best_params)\n",
    "print('Best MAE: %.0f'% -study.best_value)"
   ]
  },
  {
   "cell_type": "code",
   "execution_count": 8,
   "id": "7f0725ca-654b-40c6-b7c8-729c5e566005",
   "metadata": {
    "collapsed": true,
    "jupyter": {
     "outputs_hidden": true
    },
    "tags": []
   },
   "outputs": [
    {
     "name": "stdout",
     "output_type": "stream",
     "text": [
      "[LightGBM] [Info] Auto-choosing row-wise multi-threading, the overhead of testing was 0.000222 seconds.\n",
      "You can set `force_row_wise=true` to remove the overhead.\n",
      "And if memory is not enough, you can set `force_col_wise=true`.\n",
      "[LightGBM] [Info] Total Bins 424\n",
      "[LightGBM] [Info] Number of data points in the train set: 6780, number of used features: 16\n",
      "[LightGBM] [Info] Start training from score 17.102996\n",
      "[LightGBM] [Warning] No further splits with positive gain, best gain: -inf\n",
      "[LightGBM] [Warning] No further splits with positive gain, best gain: -inf\n",
      "[LightGBM] [Warning] No further splits with positive gain, best gain: -inf\n",
      "[LightGBM] [Warning] No further splits with positive gain, best gain: -inf\n",
      "[LightGBM] [Warning] No further splits with positive gain, best gain: -inf\n",
      "[LightGBM] [Warning] No further splits with positive gain, best gain: -inf\n",
      "[LightGBM] [Warning] No further splits with positive gain, best gain: -inf\n",
      "[LightGBM] [Warning] No further splits with positive gain, best gain: -inf\n",
      "[LightGBM] [Warning] No further splits with positive gain, best gain: -inf\n",
      "[LightGBM] [Warning] No further splits with positive gain, best gain: -inf\n",
      "[LightGBM] [Warning] No further splits with positive gain, best gain: -inf\n",
      "[LightGBM] [Warning] No further splits with positive gain, best gain: -inf\n",
      "[LightGBM] [Warning] No further splits with positive gain, best gain: -inf\n",
      "[LightGBM] [Warning] No further splits with positive gain, best gain: -inf\n",
      "[LightGBM] [Warning] No further splits with positive gain, best gain: -inf\n",
      "[LightGBM] [Warning] No further splits with positive gain, best gain: -inf\n",
      "[LightGBM] [Warning] No further splits with positive gain, best gain: -inf\n",
      "[LightGBM] [Warning] No further splits with positive gain, best gain: -inf\n",
      "[LightGBM] [Warning] No further splits with positive gain, best gain: -inf\n",
      "[LightGBM] [Warning] No further splits with positive gain, best gain: -inf\n",
      "[LightGBM] [Warning] No further splits with positive gain, best gain: -inf\n",
      "[LightGBM] [Warning] No further splits with positive gain, best gain: -inf\n",
      "[LightGBM] [Warning] No further splits with positive gain, best gain: -inf\n",
      "[LightGBM] [Warning] No further splits with positive gain, best gain: -inf\n",
      "[LightGBM] [Warning] No further splits with positive gain, best gain: -inf\n",
      "[LightGBM] [Warning] No further splits with positive gain, best gain: -inf\n",
      "[LightGBM] [Warning] No further splits with positive gain, best gain: -inf\n",
      "[LightGBM] [Warning] No further splits with positive gain, best gain: -inf\n",
      "[LightGBM] [Warning] No further splits with positive gain, best gain: -inf\n",
      "[LightGBM] [Warning] No further splits with positive gain, best gain: -inf\n",
      "[LightGBM] [Warning] No further splits with positive gain, best gain: -inf\n",
      "[LightGBM] [Warning] No further splits with positive gain, best gain: -inf\n",
      "[LightGBM] [Warning] No further splits with positive gain, best gain: -inf\n",
      "[LightGBM] [Warning] No further splits with positive gain, best gain: -inf\n",
      "[LightGBM] [Warning] No further splits with positive gain, best gain: -inf\n",
      "[LightGBM] [Warning] No further splits with positive gain, best gain: -inf\n",
      "[LightGBM] [Warning] No further splits with positive gain, best gain: -inf\n",
      "[LightGBM] [Warning] No further splits with positive gain, best gain: -inf\n",
      "[LightGBM] [Warning] No further splits with positive gain, best gain: -inf\n",
      "[LightGBM] [Warning] No further splits with positive gain, best gain: -inf\n",
      "[LightGBM] [Warning] No further splits with positive gain, best gain: -inf\n",
      "[LightGBM] [Warning] No further splits with positive gain, best gain: -inf\n",
      "[LightGBM] [Warning] No further splits with positive gain, best gain: -inf\n",
      "[LightGBM] [Warning] No further splits with positive gain, best gain: -inf\n",
      "[LightGBM] [Warning] No further splits with positive gain, best gain: -inf\n",
      "[LightGBM] [Warning] No further splits with positive gain, best gain: -inf\n",
      "[LightGBM] [Warning] No further splits with positive gain, best gain: -inf\n",
      "[LightGBM] [Warning] No further splits with positive gain, best gain: -inf\n",
      "[LightGBM] [Warning] No further splits with positive gain, best gain: -inf\n",
      "[LightGBM] [Warning] No further splits with positive gain, best gain: -inf\n",
      "[LightGBM] [Warning] No further splits with positive gain, best gain: -inf\n",
      "[LightGBM] [Warning] No further splits with positive gain, best gain: -inf\n",
      "[LightGBM] [Warning] No further splits with positive gain, best gain: -inf\n",
      "[LightGBM] [Warning] No further splits with positive gain, best gain: -inf\n",
      "[LightGBM] [Warning] No further splits with positive gain, best gain: -inf\n",
      "[LightGBM] [Warning] No further splits with positive gain, best gain: -inf\n",
      "[LightGBM] [Warning] No further splits with positive gain, best gain: -inf\n",
      "[LightGBM] [Warning] No further splits with positive gain, best gain: -inf\n",
      "[LightGBM] [Warning] No further splits with positive gain, best gain: -inf\n",
      "[LightGBM] [Warning] No further splits with positive gain, best gain: -inf\n",
      "[LightGBM] [Warning] No further splits with positive gain, best gain: -inf\n",
      "[LightGBM] [Warning] No further splits with positive gain, best gain: -inf\n",
      "[LightGBM] [Warning] No further splits with positive gain, best gain: -inf\n",
      "[LightGBM] [Warning] No further splits with positive gain, best gain: -inf\n",
      "[LightGBM] [Warning] No further splits with positive gain, best gain: -inf\n",
      "[LightGBM] [Warning] No further splits with positive gain, best gain: -inf\n",
      "[LightGBM] [Warning] No further splits with positive gain, best gain: -inf\n",
      "[LightGBM] [Warning] No further splits with positive gain, best gain: -inf\n",
      "[LightGBM] [Warning] No further splits with positive gain, best gain: -inf\n",
      "[LightGBM] [Warning] No further splits with positive gain, best gain: -inf\n",
      "[LightGBM] [Warning] No further splits with positive gain, best gain: -inf\n",
      "[LightGBM] [Warning] No further splits with positive gain, best gain: -inf\n",
      "[LightGBM] [Warning] No further splits with positive gain, best gain: -inf\n",
      "[LightGBM] [Warning] No further splits with positive gain, best gain: -inf\n",
      "[LightGBM] [Warning] No further splits with positive gain, best gain: -inf\n",
      "[LightGBM] [Warning] No further splits with positive gain, best gain: -inf\n",
      "[LightGBM] [Warning] No further splits with positive gain, best gain: -inf\n",
      "[LightGBM] [Warning] No further splits with positive gain, best gain: -inf\n",
      "[LightGBM] [Warning] No further splits with positive gain, best gain: -inf\n",
      "[LightGBM] [Warning] No further splits with positive gain, best gain: -inf\n",
      "[LightGBM] [Warning] No further splits with positive gain, best gain: -inf\n",
      "[LightGBM] [Warning] No further splits with positive gain, best gain: -inf\n",
      "[LightGBM] [Warning] No further splits with positive gain, best gain: -inf\n",
      "[LightGBM] [Warning] No further splits with positive gain, best gain: -inf\n",
      "[LightGBM] [Warning] No further splits with positive gain, best gain: -inf\n",
      "[LightGBM] [Warning] No further splits with positive gain, best gain: -inf\n",
      "[LightGBM] [Warning] No further splits with positive gain, best gain: -inf\n",
      "[LightGBM] [Warning] No further splits with positive gain, best gain: -inf\n",
      "[LightGBM] [Warning] No further splits with positive gain, best gain: -inf\n",
      "[LightGBM] [Warning] No further splits with positive gain, best gain: -inf\n",
      "[LightGBM] [Warning] No further splits with positive gain, best gain: -inf\n",
      "[LightGBM] [Warning] No further splits with positive gain, best gain: -inf\n",
      "[LightGBM] [Warning] No further splits with positive gain, best gain: -inf\n",
      "[LightGBM] [Warning] No further splits with positive gain, best gain: -inf\n",
      "[LightGBM] [Warning] No further splits with positive gain, best gain: -inf\n",
      "[LightGBM] [Warning] No further splits with positive gain, best gain: -inf\n",
      "[LightGBM] [Warning] No further splits with positive gain, best gain: -inf\n",
      "[LightGBM] [Warning] No further splits with positive gain, best gain: -inf\n",
      "[LightGBM] [Warning] No further splits with positive gain, best gain: -inf\n",
      "[LightGBM] [Warning] No further splits with positive gain, best gain: -inf\n",
      "[LightGBM] [Warning] No further splits with positive gain, best gain: -inf\n",
      "[LightGBM] [Warning] No further splits with positive gain, best gain: -inf\n",
      "[LightGBM] [Warning] No further splits with positive gain, best gain: -inf\n",
      "[LightGBM] [Warning] No further splits with positive gain, best gain: -inf\n",
      "[LightGBM] [Warning] No further splits with positive gain, best gain: -inf\n",
      "[LightGBM] [Warning] No further splits with positive gain, best gain: -inf\n",
      "[LightGBM] [Warning] No further splits with positive gain, best gain: -inf\n",
      "[LightGBM] [Warning] No further splits with positive gain, best gain: -inf\n",
      "[LightGBM] [Warning] No further splits with positive gain, best gain: -inf\n",
      "[LightGBM] [Warning] No further splits with positive gain, best gain: -inf\n",
      "[LightGBM] [Warning] No further splits with positive gain, best gain: -inf\n",
      "[LightGBM] [Warning] No further splits with positive gain, best gain: -inf\n",
      "[LightGBM] [Warning] No further splits with positive gain, best gain: -inf\n",
      "[LightGBM] [Warning] No further splits with positive gain, best gain: -inf\n",
      "[LightGBM] [Warning] No further splits with positive gain, best gain: -inf\n",
      "[LightGBM] [Warning] No further splits with positive gain, best gain: -inf\n",
      "[LightGBM] [Warning] No further splits with positive gain, best gain: -inf\n",
      "[LightGBM] [Warning] No further splits with positive gain, best gain: -inf\n",
      "[LightGBM] [Warning] No further splits with positive gain, best gain: -inf\n",
      "[LightGBM] [Warning] No further splits with positive gain, best gain: -inf\n",
      "[LightGBM] [Warning] No further splits with positive gain, best gain: -inf\n",
      "[LightGBM] [Warning] No further splits with positive gain, best gain: -inf\n",
      "[LightGBM] [Warning] No further splits with positive gain, best gain: -inf\n",
      "[LightGBM] [Warning] No further splits with positive gain, best gain: -inf\n",
      "[LightGBM] [Warning] No further splits with positive gain, best gain: -inf\n",
      "[LightGBM] [Warning] No further splits with positive gain, best gain: -inf\n",
      "[LightGBM] [Warning] No further splits with positive gain, best gain: -inf\n",
      "[LightGBM] [Warning] No further splits with positive gain, best gain: -inf\n",
      "[LightGBM] [Warning] No further splits with positive gain, best gain: -inf\n",
      "[LightGBM] [Warning] No further splits with positive gain, best gain: -inf\n",
      "[LightGBM] [Warning] No further splits with positive gain, best gain: -inf\n",
      "[LightGBM] [Warning] No further splits with positive gain, best gain: -inf\n",
      "[LightGBM] [Warning] No further splits with positive gain, best gain: -inf\n",
      "[LightGBM] [Warning] No further splits with positive gain, best gain: -inf\n",
      "[LightGBM] [Warning] No further splits with positive gain, best gain: -inf\n",
      "[LightGBM] [Warning] No further splits with positive gain, best gain: -inf\n",
      "[LightGBM] [Warning] No further splits with positive gain, best gain: -inf\n",
      "[LightGBM] [Warning] No further splits with positive gain, best gain: -inf\n",
      "[LightGBM] [Warning] No further splits with positive gain, best gain: -inf\n",
      "[LightGBM] [Warning] No further splits with positive gain, best gain: -inf\n",
      "[LightGBM] [Warning] No further splits with positive gain, best gain: -inf\n",
      "[LightGBM] [Warning] No further splits with positive gain, best gain: -inf\n",
      "[LightGBM] [Warning] No further splits with positive gain, best gain: -inf\n",
      "[LightGBM] [Warning] No further splits with positive gain, best gain: -inf\n",
      "[LightGBM] [Warning] No further splits with positive gain, best gain: -inf\n",
      "[LightGBM] [Warning] No further splits with positive gain, best gain: -inf\n",
      "[LightGBM] [Warning] No further splits with positive gain, best gain: -inf\n",
      "[LightGBM] [Warning] No further splits with positive gain, best gain: -inf\n",
      "[LightGBM] [Warning] No further splits with positive gain, best gain: -inf\n",
      "[LightGBM] [Warning] No further splits with positive gain, best gain: -inf\n",
      "[LightGBM] [Warning] No further splits with positive gain, best gain: -inf\n",
      "[LightGBM] [Warning] No further splits with positive gain, best gain: -inf\n",
      "[LightGBM] [Warning] No further splits with positive gain, best gain: -inf\n",
      "[LightGBM] [Warning] No further splits with positive gain, best gain: -inf\n",
      "[LightGBM] [Warning] No further splits with positive gain, best gain: -inf\n",
      "[LightGBM] [Warning] No further splits with positive gain, best gain: -inf\n",
      "[LightGBM] [Warning] No further splits with positive gain, best gain: -inf\n",
      "[LightGBM] [Warning] No further splits with positive gain, best gain: -inf\n",
      "[LightGBM] [Warning] No further splits with positive gain, best gain: -inf\n",
      "[LightGBM] [Warning] No further splits with positive gain, best gain: -inf\n",
      "[LightGBM] [Warning] No further splits with positive gain, best gain: -inf\n",
      "[LightGBM] [Warning] No further splits with positive gain, best gain: -inf\n",
      "[LightGBM] [Warning] No further splits with positive gain, best gain: -inf\n",
      "[LightGBM] [Warning] No further splits with positive gain, best gain: -inf\n",
      "[LightGBM] [Warning] No further splits with positive gain, best gain: -inf\n",
      "[LightGBM] [Warning] No further splits with positive gain, best gain: -inf\n",
      "[LightGBM] [Warning] No further splits with positive gain, best gain: -inf\n",
      "[LightGBM] [Warning] No further splits with positive gain, best gain: -inf\n",
      "[LightGBM] [Warning] No further splits with positive gain, best gain: -inf\n",
      "[LightGBM] [Warning] No further splits with positive gain, best gain: -inf\n",
      "[LightGBM] [Warning] No further splits with positive gain, best gain: -inf\n",
      "[LightGBM] [Warning] No further splits with positive gain, best gain: -inf\n",
      "[LightGBM] [Warning] No further splits with positive gain, best gain: -inf\n",
      "[LightGBM] [Warning] No further splits with positive gain, best gain: -inf\n",
      "[LightGBM] [Warning] No further splits with positive gain, best gain: -inf\n",
      "[LightGBM] [Warning] No further splits with positive gain, best gain: -inf\n",
      "[LightGBM] [Warning] No further splits with positive gain, best gain: -inf\n",
      "[LightGBM] [Warning] No further splits with positive gain, best gain: -inf\n",
      "[LightGBM] [Warning] No further splits with positive gain, best gain: -inf\n",
      "[LightGBM] [Warning] No further splits with positive gain, best gain: -inf\n",
      "[LightGBM] [Warning] No further splits with positive gain, best gain: -inf\n",
      "[LightGBM] [Warning] No further splits with positive gain, best gain: -inf\n",
      "[LightGBM] [Warning] No further splits with positive gain, best gain: -inf\n",
      "[LightGBM] [Warning] No further splits with positive gain, best gain: -inf\n",
      "[LightGBM] [Warning] No further splits with positive gain, best gain: -inf\n",
      "[LightGBM] [Warning] No further splits with positive gain, best gain: -inf\n",
      "[LightGBM] [Warning] No further splits with positive gain, best gain: -inf\n",
      "[LightGBM] [Warning] No further splits with positive gain, best gain: -inf\n",
      "[LightGBM] [Warning] No further splits with positive gain, best gain: -inf\n",
      "[LightGBM] [Warning] No further splits with positive gain, best gain: -inf\n",
      "[LightGBM] [Warning] No further splits with positive gain, best gain: -inf\n",
      "[LightGBM] [Warning] No further splits with positive gain, best gain: -inf\n",
      "[LightGBM] [Warning] No further splits with positive gain, best gain: -inf\n",
      "[LightGBM] [Warning] No further splits with positive gain, best gain: -inf\n",
      "[LightGBM] [Warning] No further splits with positive gain, best gain: -inf\n",
      "[LightGBM] [Warning] No further splits with positive gain, best gain: -inf\n",
      "[LightGBM] [Warning] No further splits with positive gain, best gain: -inf\n",
      "[LightGBM] [Warning] No further splits with positive gain, best gain: -inf\n",
      "[LightGBM] [Warning] No further splits with positive gain, best gain: -inf\n",
      "[LightGBM] [Warning] No further splits with positive gain, best gain: -inf\n",
      "[LightGBM] [Warning] No further splits with positive gain, best gain: -inf\n",
      "[LightGBM] [Warning] No further splits with positive gain, best gain: -inf\n",
      "[LightGBM] [Warning] No further splits with positive gain, best gain: -inf\n",
      "[LightGBM] [Warning] No further splits with positive gain, best gain: -inf\n",
      "[LightGBM] [Warning] No further splits with positive gain, best gain: -inf\n",
      "[LightGBM] [Warning] No further splits with positive gain, best gain: -inf\n",
      "[LightGBM] [Warning] No further splits with positive gain, best gain: -inf\n",
      "[LightGBM] [Warning] No further splits with positive gain, best gain: -inf\n",
      "[LightGBM] [Warning] No further splits with positive gain, best gain: -inf\n",
      "[LightGBM] [Warning] No further splits with positive gain, best gain: -inf\n",
      "[LightGBM] [Warning] No further splits with positive gain, best gain: -inf\n",
      "[LightGBM] [Warning] No further splits with positive gain, best gain: -inf\n",
      "[LightGBM] [Warning] No further splits with positive gain, best gain: -inf\n",
      "[LightGBM] [Warning] No further splits with positive gain, best gain: -inf\n",
      "[LightGBM] [Warning] No further splits with positive gain, best gain: -inf\n",
      "[LightGBM] [Warning] No further splits with positive gain, best gain: -inf\n",
      "[LightGBM] [Warning] No further splits with positive gain, best gain: -inf\n",
      "[LightGBM] [Warning] No further splits with positive gain, best gain: -inf\n",
      "[LightGBM] [Warning] No further splits with positive gain, best gain: -inf\n",
      "[LightGBM] [Warning] No further splits with positive gain, best gain: -inf\n",
      "[LightGBM] [Warning] No further splits with positive gain, best gain: -inf\n",
      "[LightGBM] [Warning] No further splits with positive gain, best gain: -inf\n",
      "[LightGBM] [Warning] No further splits with positive gain, best gain: -inf\n",
      "[LightGBM] [Warning] No further splits with positive gain, best gain: -inf\n",
      "[LightGBM] [Warning] No further splits with positive gain, best gain: -inf\n",
      "[LightGBM] [Warning] No further splits with positive gain, best gain: -inf\n",
      "[LightGBM] [Warning] No further splits with positive gain, best gain: -inf\n",
      "[LightGBM] [Warning] No further splits with positive gain, best gain: -inf\n",
      "[LightGBM] [Warning] No further splits with positive gain, best gain: -inf\n",
      "[LightGBM] [Warning] No further splits with positive gain, best gain: -inf\n",
      "[LightGBM] [Warning] No further splits with positive gain, best gain: -inf\n",
      "[LightGBM] [Warning] No further splits with positive gain, best gain: -inf\n",
      "[LightGBM] [Warning] No further splits with positive gain, best gain: -inf\n",
      "[LightGBM] [Warning] No further splits with positive gain, best gain: -inf\n",
      "[LightGBM] [Warning] No further splits with positive gain, best gain: -inf\n",
      "[LightGBM] [Warning] No further splits with positive gain, best gain: -inf\n",
      "[LightGBM] [Warning] No further splits with positive gain, best gain: -inf\n",
      "[LightGBM] [Warning] No further splits with positive gain, best gain: -inf\n",
      "[LightGBM] [Warning] No further splits with positive gain, best gain: -inf\n",
      "[LightGBM] [Warning] No further splits with positive gain, best gain: -inf\n",
      "[LightGBM] [Warning] No further splits with positive gain, best gain: -inf\n",
      "[LightGBM] [Warning] No further splits with positive gain, best gain: -inf\n",
      "[LightGBM] [Warning] No further splits with positive gain, best gain: -inf\n",
      "[LightGBM] [Warning] No further splits with positive gain, best gain: -inf\n",
      "[LightGBM] [Warning] No further splits with positive gain, best gain: -inf\n",
      "[LightGBM] [Warning] No further splits with positive gain, best gain: -inf\n",
      "[LightGBM] [Warning] No further splits with positive gain, best gain: -inf\n",
      "[LightGBM] [Warning] No further splits with positive gain, best gain: -inf\n",
      "[LightGBM] [Warning] No further splits with positive gain, best gain: -inf\n",
      "[LightGBM] [Warning] No further splits with positive gain, best gain: -inf\n",
      "[LightGBM] [Warning] No further splits with positive gain, best gain: -inf\n",
      "[LightGBM] [Warning] No further splits with positive gain, best gain: -inf\n",
      "[LightGBM] [Warning] No further splits with positive gain, best gain: -inf\n",
      "[LightGBM] [Warning] No further splits with positive gain, best gain: -inf\n",
      "[LightGBM] [Warning] No further splits with positive gain, best gain: -inf\n",
      "[LightGBM] [Warning] No further splits with positive gain, best gain: -inf\n",
      "[LightGBM] [Warning] No further splits with positive gain, best gain: -inf\n",
      "[LightGBM] [Warning] No further splits with positive gain, best gain: -inf\n",
      "[LightGBM] [Warning] No further splits with positive gain, best gain: -inf\n",
      "[LightGBM] [Warning] No further splits with positive gain, best gain: -inf\n",
      "[LightGBM] [Warning] No further splits with positive gain, best gain: -inf\n",
      "[LightGBM] [Warning] No further splits with positive gain, best gain: -inf\n",
      "[LightGBM] [Warning] No further splits with positive gain, best gain: -inf\n",
      "[LightGBM] [Warning] No further splits with positive gain, best gain: -inf\n",
      "[LightGBM] [Warning] No further splits with positive gain, best gain: -inf\n",
      "[LightGBM] [Warning] No further splits with positive gain, best gain: -inf\n",
      "[LightGBM] [Warning] No further splits with positive gain, best gain: -inf\n",
      "[LightGBM] [Warning] No further splits with positive gain, best gain: -inf\n",
      "[LightGBM] [Warning] No further splits with positive gain, best gain: -inf\n",
      "R2 on train: 0.924 \n",
      "\n",
      "MAE on train: 9430928 \n",
      "MAE on test: 11215844 \n",
      "\n",
      "MAPE on train: 0.195 \n",
      "MAPE on test: 0.217 \n"
     ]
    }
   ],
   "source": [
    "lgbm = LGBMRegressor(random_state=0, n_jobs=-1, **study.best_params).fit(X, y)\n",
    "\n",
    "y_fitted = np.exp(lgbm.predict(X))\n",
    "y_predicted = np.exp(lgbm.predict(X_test))\n",
    "\n",
    "print('R2 on train: %.3f'%lgbm.score(X, y), '\\n')\n",
    "\n",
    "print('MAE on train: %.0f '% mae(np.exp(y), y_fitted))\n",
    "print('MAE on test: %.0f'% mae(y_test, y_predicted), '\\n')\n",
    "\n",
    "print('MAPE on train: %.3f '% mape(np.exp(y), y_fitted))\n",
    "print('MAPE on test: %.3f '% mape(y_test, y_predicted))"
   ]
  },
  {
   "cell_type": "code",
   "execution_count": null,
   "id": "60f6cd2e-6e1b-4fb8-8b39-c724b95dadd6",
   "metadata": {},
   "outputs": [],
   "source": []
  }
 ],
 "metadata": {
  "kernelspec": {
   "display_name": "Python 3 (ipykernel)",
   "language": "python",
   "name": "python3"
  },
  "language_info": {
   "codemirror_mode": {
    "name": "ipython",
    "version": 3
   },
   "file_extension": ".py",
   "mimetype": "text/x-python",
   "name": "python",
   "nbconvert_exporter": "python",
   "pygments_lexer": "ipython3",
   "version": "3.10.9"
  }
 },
 "nbformat": 4,
 "nbformat_minor": 5
}
